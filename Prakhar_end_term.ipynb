{
  "nbformat": 4,
  "nbformat_minor": 0,
  "metadata": {
    "colab": {
      "name": "Prakhar_end_term.ipynb",
      "provenance": []
    },
    "kernelspec": {
      "name": "python3",
      "display_name": "Python 3"
    },
    "language_info": {
      "name": "python"
    }
  },
  "cells": [
    {
      "cell_type": "code",
      "metadata": {
        "id": "8-2BZ_ZW5lv7"
      },
      "source": [
        "# # Data Preprocessing\n",
        "# Importing the libraries\n",
        "import numpy as np\n",
        "import matplotlib.pyplot as plt\n",
        "import pandas as pd"
      ],
      "execution_count": 1,
      "outputs": []
    },
    {
      "cell_type": "code",
      "metadata": {
        "colab": {
          "base_uri": "https://localhost:8080/"
        },
        "id": "0X1vVP196Ow_",
        "outputId": "79b7482d-4611-4cb4-cf15-f00e52d99b54"
      },
      "source": [
        "from google.colab import drive\n",
        "drive.mount('/content/drive')"
      ],
      "execution_count": 2,
      "outputs": [
        {
          "output_type": "stream",
          "text": [
            "Mounted at /content/drive\n"
          ],
          "name": "stdout"
        }
      ]
    },
    {
      "cell_type": "code",
      "metadata": {
        "colab": {
          "resources": {
            "http://localhost:8080/nbextensions/google.colab/files.js": {
              "data": "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",
              "ok": true,
              "headers": [
                [
                  "content-type",
                  "application/javascript"
                ]
              ],
              "status": 200,
              "status_text": ""
            }
          },
          "base_uri": "https://localhost:8080/",
          "height": 73
        },
        "id": "EnmT-tcw6Ubf",
        "outputId": "c5e18bf2-cf56-4ecd-b98c-5f19e909befc"
      },
      "source": [
        "from google.colab import files\n",
        "Uploaded=files.upload()"
      ],
      "execution_count": 3,
      "outputs": [
        {
          "output_type": "display_data",
          "data": {
            "text/html": [
              "\n",
              "     <input type=\"file\" id=\"files-cd125f33-049e-4e4d-91aa-40e375e7bff4\" name=\"files[]\" multiple disabled\n",
              "        style=\"border:none\" />\n",
              "     <output id=\"result-cd125f33-049e-4e4d-91aa-40e375e7bff4\">\n",
              "      Upload widget is only available when the cell has been executed in the\n",
              "      current browser session. Please rerun this cell to enable.\n",
              "      </output>\n",
              "      <script src=\"/nbextensions/google.colab/files.js\"></script> "
            ],
            "text/plain": [
              "<IPython.core.display.HTML object>"
            ]
          },
          "metadata": {
            "tags": []
          }
        },
        {
          "output_type": "stream",
          "text": [
            "Saving main.csv to main.csv\n"
          ],
          "name": "stdout"
        }
      ]
    },
    {
      "cell_type": "code",
      "metadata": {
        "colab": {
          "base_uri": "https://localhost:8080/"
        },
        "id": "ngNFRnvJ60Tj",
        "outputId": "80b5d2af-cab5-459d-c50d-69d4dfd71e44"
      },
      "source": [
        "dataset= pd.read_csv('main.csv')\n",
        "print(dataset)"
      ],
      "execution_count": 5,
      "outputs": [
        {
          "output_type": "stream",
          "text": [
            "     Gender  Glucose    BP  SkinThickness  ...   BMI  PedigreeFunction  Age  Outcome\n",
            "0      Male      148  72.0           35.0  ...  33.6             0.627   50        1\n",
            "1    Female       85  66.0           29.0  ...  26.6             0.351   31        0\n",
            "2    Female      183  64.0            0.0  ...  23.3             0.672   32        1\n",
            "3    Female       89  66.0           23.0  ...  28.1             0.167   21        0\n",
            "4      Male      137   NaN           35.0  ...  43.1             2.288   33        1\n",
            "..      ...      ...   ...            ...  ...   ...               ...  ...      ...\n",
            "559    Male       85  74.0            0.0  ...  30.1             0.300   35        0\n",
            "560    Male      125  76.0            0.0  ...  33.8             0.121   54        1\n",
            "561    Male      198  66.0           32.0  ...  41.3             0.502   28        1\n",
            "562    Male       87  68.0           34.0  ...  37.6             0.401   24        0\n",
            "563    Male       99  60.0           19.0  ...  26.9             0.497   32        0\n",
            "\n",
            "[564 rows x 9 columns]\n"
          ],
          "name": "stdout"
        }
      ]
    },
    {
      "cell_type": "code",
      "metadata": {
        "colab": {
          "base_uri": "https://localhost:8080/"
        },
        "id": "geHEShSj7Hq0",
        "outputId": "f52c1ab4-3341-417b-eef0-e05572aa4122"
      },
      "source": [
        "dataset.info()"
      ],
      "execution_count": 6,
      "outputs": [
        {
          "output_type": "stream",
          "text": [
            "<class 'pandas.core.frame.DataFrame'>\n",
            "RangeIndex: 564 entries, 0 to 563\n",
            "Data columns (total 9 columns):\n",
            " #   Column            Non-Null Count  Dtype  \n",
            "---  ------            --------------  -----  \n",
            " 0   Gender            564 non-null    object \n",
            " 1   Glucose           564 non-null    int64  \n",
            " 2   BP                548 non-null    float64\n",
            " 3   SkinThickness     553 non-null    float64\n",
            " 4   Insulin           552 non-null    float64\n",
            " 5   BMI               547 non-null    float64\n",
            " 6   PedigreeFunction  546 non-null    float64\n",
            " 7   Age               564 non-null    int64  \n",
            " 8   Outcome           564 non-null    int64  \n",
            "dtypes: float64(5), int64(3), object(1)\n",
            "memory usage: 39.8+ KB\n"
          ],
          "name": "stdout"
        }
      ]
    },
    {
      "cell_type": "code",
      "metadata": {
        "id": "1d33_qI-7MnZ"
      },
      "source": [
        "# Extracting dependent and independent variables:\n",
        "# Extracting independent variable:\n",
        "X = dataset.iloc[:,0:7].values\n",
        "# Extracting dependent variable:\n",
        "y = dataset.iloc[:,8].values\n"
      ],
      "execution_count": 8,
      "outputs": []
    },
    {
      "cell_type": "code",
      "metadata": {
        "colab": {
          "base_uri": "https://localhost:8080/"
        },
        "id": "bG1KQuB97TYO",
        "outputId": "a56bf90e-9487-46fd-b0ae-75e14dfbd46d"
      },
      "source": [
        "#Check Missing Data\n",
        "dataset.isnull().sum()"
      ],
      "execution_count": 9,
      "outputs": [
        {
          "output_type": "execute_result",
          "data": {
            "text/plain": [
              "Gender               0\n",
              "Glucose              0\n",
              "BP                  16\n",
              "SkinThickness       11\n",
              "Insulin             12\n",
              "BMI                 17\n",
              "PedigreeFunction    18\n",
              "Age                  0\n",
              "Outcome              0\n",
              "dtype: int64"
            ]
          },
          "metadata": {
            "tags": []
          },
          "execution_count": 9
        }
      ]
    },
    {
      "cell_type": "code",
      "metadata": {
        "id": "m3LgDQyj7kMo"
      },
      "source": [
        "# Taking care of missing data\n",
        "#handling missing data (Replacing missing data with the mean value)  \n",
        "from sklearn.impute import SimpleImputer\n",
        "imputer = SimpleImputer(missing_values= np.NAN, strategy= 'mean', fill_value=None, verbose=1, copy=True)\n",
        "#Fitting imputer object to the independent variables x.   \n",
        "imputer = imputer.fit(X[:, 2:6]) \n",
        "#Replacing missing data with the calculated mean value  \n",
        "X[:, 2:6]= imputer.transform(X[:, 2:6])"
      ],
      "execution_count": 10,
      "outputs": []
    },
    {
      "cell_type": "code",
      "metadata": {
        "colab": {
          "base_uri": "https://localhost:8080/"
        },
        "id": "z3w6cxlh7tuR",
        "outputId": "fdf0df06-ffe3-46f0-e144-d799762ca293"
      },
      "source": [
        "#Check Missing Data\n",
        "dataset.isnull().sum()"
      ],
      "execution_count": 12,
      "outputs": [
        {
          "output_type": "execute_result",
          "data": {
            "text/plain": [
              "Gender               0\n",
              "Glucose              0\n",
              "BP                  16\n",
              "SkinThickness       11\n",
              "Insulin             12\n",
              "BMI                 17\n",
              "PedigreeFunction    18\n",
              "Age                  0\n",
              "Outcome              0\n",
              "dtype: int64"
            ]
          },
          "metadata": {
            "tags": []
          },
          "execution_count": 12
        }
      ]
    },
    {
      "cell_type": "code",
      "metadata": {
        "id": "uB6h_qX07v8s"
      },
      "source": [
        "# Taking care of missing data\n",
        "#handling missing data (Replacing missing data with the mean value)  \n",
        "from sklearn.impute import SimpleImputer\n",
        "imputer = SimpleImputer(missing_values= np.NAN, strategy= 'mean', fill_value=None, verbose=1, copy=True)\n",
        "#Fitting imputer object to the independent variables x.   \n",
        "imputer = imputer.fit(X[:, 2:6]) \n",
        "#Replacing missing data with the calculated mean value  \n",
        "X[:, 2:6]= imputer.transform(X[:, 2:6])"
      ],
      "execution_count": 13,
      "outputs": []
    },
    {
      "cell_type": "code",
      "metadata": {
        "colab": {
          "base_uri": "https://localhost:8080/"
        },
        "id": "catllcAY72RM",
        "outputId": "24e8e531-4b3e-49d6-af0c-1a434c8aa7e1"
      },
      "source": [
        "#Check Missing Data\n",
        "dataset.isnull().sum()"
      ],
      "execution_count": 14,
      "outputs": [
        {
          "output_type": "execute_result",
          "data": {
            "text/plain": [
              "Gender               0\n",
              "Glucose              0\n",
              "BP                  16\n",
              "SkinThickness       11\n",
              "Insulin             12\n",
              "BMI                 17\n",
              "PedigreeFunction    18\n",
              "Age                  0\n",
              "Outcome              0\n",
              "dtype: int64"
            ]
          },
          "metadata": {
            "tags": []
          },
          "execution_count": 14
        }
      ]
    },
    {
      "cell_type": "code",
      "metadata": {
        "colab": {
          "base_uri": "https://localhost:8080/",
          "height": 419
        },
        "id": "D3zqvyKV73vP",
        "outputId": "01d8c834-275c-44c9-cdd9-79f84a3cbfa6"
      },
      "source": [
        "dataset = dataset.dropna()\n",
        "dataset"
      ],
      "execution_count": 15,
      "outputs": [
        {
          "output_type": "execute_result",
          "data": {
            "text/html": [
              "<div>\n",
              "<style scoped>\n",
              "    .dataframe tbody tr th:only-of-type {\n",
              "        vertical-align: middle;\n",
              "    }\n",
              "\n",
              "    .dataframe tbody tr th {\n",
              "        vertical-align: top;\n",
              "    }\n",
              "\n",
              "    .dataframe thead th {\n",
              "        text-align: right;\n",
              "    }\n",
              "</style>\n",
              "<table border=\"1\" class=\"dataframe\">\n",
              "  <thead>\n",
              "    <tr style=\"text-align: right;\">\n",
              "      <th></th>\n",
              "      <th>Gender</th>\n",
              "      <th>Glucose</th>\n",
              "      <th>BP</th>\n",
              "      <th>SkinThickness</th>\n",
              "      <th>Insulin</th>\n",
              "      <th>BMI</th>\n",
              "      <th>PedigreeFunction</th>\n",
              "      <th>Age</th>\n",
              "      <th>Outcome</th>\n",
              "    </tr>\n",
              "  </thead>\n",
              "  <tbody>\n",
              "    <tr>\n",
              "      <th>0</th>\n",
              "      <td>Male</td>\n",
              "      <td>148</td>\n",
              "      <td>72.0</td>\n",
              "      <td>35.0</td>\n",
              "      <td>0.0</td>\n",
              "      <td>33.6</td>\n",
              "      <td>0.627</td>\n",
              "      <td>50</td>\n",
              "      <td>1</td>\n",
              "    </tr>\n",
              "    <tr>\n",
              "      <th>1</th>\n",
              "      <td>Female</td>\n",
              "      <td>85</td>\n",
              "      <td>66.0</td>\n",
              "      <td>29.0</td>\n",
              "      <td>0.0</td>\n",
              "      <td>26.6</td>\n",
              "      <td>0.351</td>\n",
              "      <td>31</td>\n",
              "      <td>0</td>\n",
              "    </tr>\n",
              "    <tr>\n",
              "      <th>2</th>\n",
              "      <td>Female</td>\n",
              "      <td>183</td>\n",
              "      <td>64.0</td>\n",
              "      <td>0.0</td>\n",
              "      <td>0.0</td>\n",
              "      <td>23.3</td>\n",
              "      <td>0.672</td>\n",
              "      <td>32</td>\n",
              "      <td>1</td>\n",
              "    </tr>\n",
              "    <tr>\n",
              "      <th>3</th>\n",
              "      <td>Female</td>\n",
              "      <td>89</td>\n",
              "      <td>66.0</td>\n",
              "      <td>23.0</td>\n",
              "      <td>94.0</td>\n",
              "      <td>28.1</td>\n",
              "      <td>0.167</td>\n",
              "      <td>21</td>\n",
              "      <td>0</td>\n",
              "    </tr>\n",
              "    <tr>\n",
              "      <th>5</th>\n",
              "      <td>Female</td>\n",
              "      <td>116</td>\n",
              "      <td>74.0</td>\n",
              "      <td>0.0</td>\n",
              "      <td>0.0</td>\n",
              "      <td>25.6</td>\n",
              "      <td>0.201</td>\n",
              "      <td>30</td>\n",
              "      <td>0</td>\n",
              "    </tr>\n",
              "    <tr>\n",
              "      <th>...</th>\n",
              "      <td>...</td>\n",
              "      <td>...</td>\n",
              "      <td>...</td>\n",
              "      <td>...</td>\n",
              "      <td>...</td>\n",
              "      <td>...</td>\n",
              "      <td>...</td>\n",
              "      <td>...</td>\n",
              "      <td>...</td>\n",
              "    </tr>\n",
              "    <tr>\n",
              "      <th>559</th>\n",
              "      <td>Male</td>\n",
              "      <td>85</td>\n",
              "      <td>74.0</td>\n",
              "      <td>0.0</td>\n",
              "      <td>0.0</td>\n",
              "      <td>30.1</td>\n",
              "      <td>0.300</td>\n",
              "      <td>35</td>\n",
              "      <td>0</td>\n",
              "    </tr>\n",
              "    <tr>\n",
              "      <th>560</th>\n",
              "      <td>Male</td>\n",
              "      <td>125</td>\n",
              "      <td>76.0</td>\n",
              "      <td>0.0</td>\n",
              "      <td>0.0</td>\n",
              "      <td>33.8</td>\n",
              "      <td>0.121</td>\n",
              "      <td>54</td>\n",
              "      <td>1</td>\n",
              "    </tr>\n",
              "    <tr>\n",
              "      <th>561</th>\n",
              "      <td>Male</td>\n",
              "      <td>198</td>\n",
              "      <td>66.0</td>\n",
              "      <td>32.0</td>\n",
              "      <td>274.0</td>\n",
              "      <td>41.3</td>\n",
              "      <td>0.502</td>\n",
              "      <td>28</td>\n",
              "      <td>1</td>\n",
              "    </tr>\n",
              "    <tr>\n",
              "      <th>562</th>\n",
              "      <td>Male</td>\n",
              "      <td>87</td>\n",
              "      <td>68.0</td>\n",
              "      <td>34.0</td>\n",
              "      <td>77.0</td>\n",
              "      <td>37.6</td>\n",
              "      <td>0.401</td>\n",
              "      <td>24</td>\n",
              "      <td>0</td>\n",
              "    </tr>\n",
              "    <tr>\n",
              "      <th>563</th>\n",
              "      <td>Male</td>\n",
              "      <td>99</td>\n",
              "      <td>60.0</td>\n",
              "      <td>19.0</td>\n",
              "      <td>54.0</td>\n",
              "      <td>26.9</td>\n",
              "      <td>0.497</td>\n",
              "      <td>32</td>\n",
              "      <td>0</td>\n",
              "    </tr>\n",
              "  </tbody>\n",
              "</table>\n",
              "<p>497 rows × 9 columns</p>\n",
              "</div>"
            ],
            "text/plain": [
              "     Gender  Glucose    BP  SkinThickness  ...   BMI  PedigreeFunction  Age  Outcome\n",
              "0      Male      148  72.0           35.0  ...  33.6             0.627   50        1\n",
              "1    Female       85  66.0           29.0  ...  26.6             0.351   31        0\n",
              "2    Female      183  64.0            0.0  ...  23.3             0.672   32        1\n",
              "3    Female       89  66.0           23.0  ...  28.1             0.167   21        0\n",
              "5    Female      116  74.0            0.0  ...  25.6             0.201   30        0\n",
              "..      ...      ...   ...            ...  ...   ...               ...  ...      ...\n",
              "559    Male       85  74.0            0.0  ...  30.1             0.300   35        0\n",
              "560    Male      125  76.0            0.0  ...  33.8             0.121   54        1\n",
              "561    Male      198  66.0           32.0  ...  41.3             0.502   28        1\n",
              "562    Male       87  68.0           34.0  ...  37.6             0.401   24        0\n",
              "563    Male       99  60.0           19.0  ...  26.9             0.497   32        0\n",
              "\n",
              "[497 rows x 9 columns]"
            ]
          },
          "metadata": {
            "tags": []
          },
          "execution_count": 15
        }
      ]
    },
    {
      "cell_type": "code",
      "metadata": {
        "id": "tz1JEm0d8F_e"
      },
      "source": [
        "# Taking care of missing data\n",
        "#handling missing data (Replacing missing data with the mean value)  \n",
        "from sklearn.impute import SimpleImputer\n",
        "imputer = SimpleImputer(missing_values= np.NAN, strategy= 'mean', fill_value=None, verbose=1, copy=True)\n",
        "#Fitting imputer object to the independent variables x.   \n",
        "imputer = imputer.fit(X[:, 2:6]) \n",
        "#Replacing missing data with the calculated mean value  \n",
        "X[:, 2:6]= imputer.transform(X[:, 2:6])"
      ],
      "execution_count": 16,
      "outputs": []
    },
    {
      "cell_type": "code",
      "metadata": {
        "colab": {
          "base_uri": "https://localhost:8080/"
        },
        "id": "P5UAGh-C8H65",
        "outputId": "a63dfdb3-9ed6-41ec-c1a6-a06da3eef14d"
      },
      "source": [
        "#Check Missing Data\n",
        "dataset.isnull().sum()"
      ],
      "execution_count": 17,
      "outputs": [
        {
          "output_type": "execute_result",
          "data": {
            "text/plain": [
              "Gender              0\n",
              "Glucose             0\n",
              "BP                  0\n",
              "SkinThickness       0\n",
              "Insulin             0\n",
              "BMI                 0\n",
              "PedigreeFunction    0\n",
              "Age                 0\n",
              "Outcome             0\n",
              "dtype: int64"
            ]
          },
          "metadata": {
            "tags": []
          },
          "execution_count": 17
        }
      ]
    },
    {
      "cell_type": "code",
      "metadata": {
        "id": "ks2iJFP78Khx"
      },
      "source": [
        "\n",
        "from sklearn.preprocessing import LabelEncoder\n",
        "labelencoder_X = LabelEncoder()\n",
        "X[:, 0] = labelencoder_X.fit_transform(X[:, 0])\n"
      ],
      "execution_count": 18,
      "outputs": []
    },
    {
      "cell_type": "code",
      "metadata": {
        "colab": {
          "base_uri": "https://localhost:8080/"
        },
        "id": "TXTEVrX68SJv",
        "outputId": "bb9ad7e6-390a-4180-aa63-aa84982b2cb0"
      },
      "source": [
        "dataset.info()"
      ],
      "execution_count": 19,
      "outputs": [
        {
          "output_type": "stream",
          "text": [
            "<class 'pandas.core.frame.DataFrame'>\n",
            "Int64Index: 497 entries, 0 to 563\n",
            "Data columns (total 9 columns):\n",
            " #   Column            Non-Null Count  Dtype  \n",
            "---  ------            --------------  -----  \n",
            " 0   Gender            497 non-null    object \n",
            " 1   Glucose           497 non-null    int64  \n",
            " 2   BP                497 non-null    float64\n",
            " 3   SkinThickness     497 non-null    float64\n",
            " 4   Insulin           497 non-null    float64\n",
            " 5   BMI               497 non-null    float64\n",
            " 6   PedigreeFunction  497 non-null    float64\n",
            " 7   Age               497 non-null    int64  \n",
            " 8   Outcome           497 non-null    int64  \n",
            "dtypes: float64(5), int64(3), object(1)\n",
            "memory usage: 38.8+ KB\n"
          ],
          "name": "stdout"
        }
      ]
    },
    {
      "cell_type": "code",
      "metadata": {
        "colab": {
          "base_uri": "https://localhost:8080/"
        },
        "id": "hW8ZqCm68WEw",
        "outputId": "50244fb9-015a-4253-ee92-d89e56e82e1c"
      },
      "source": [
        "print(X)"
      ],
      "execution_count": 20,
      "outputs": [
        {
          "output_type": "stream",
          "text": [
            "[[1 148 72.0 ... 0.0 33.6 0.627]\n",
            " [0 85 66.0 ... 0.0 26.6 0.35100000000000003]\n",
            " [0 183 64.0 ... 0.0 23.3 0.672]\n",
            " ...\n",
            " [1 198 66.0 ... 274.0 41.3 0.502]\n",
            " [1 87 68.0 ... 77.0 37.6 0.401]\n",
            " [1 99 60.0 ... 54.0 26.9 0.49700000000000005]]\n"
          ],
          "name": "stdout"
        }
      ]
    },
    {
      "cell_type": "code",
      "metadata": {
        "id": "GQM-9lYE8cxt"
      },
      "source": [
        "from sklearn.model_selection import train_test_split\n",
        "\n",
        "X_train, X_test, y_train, y_test = train_test_split(X, y, test_size = 0.25, random_state = 5)"
      ],
      "execution_count": 21,
      "outputs": []
    },
    {
      "cell_type": "code",
      "metadata": {
        "colab": {
          "base_uri": "https://localhost:8080/"
        },
        "id": "-uMJhk7R8fR1",
        "outputId": "a0092158-42ea-4826-bc26-fdb8158f35d5"
      },
      "source": [
        "print(X_train)"
      ],
      "execution_count": 22,
      "outputs": [
        {
          "output_type": "stream",
          "text": [
            "[[1 171 110.0 ... 240.0 45.4 0.721]\n",
            " [0 106 52.0 ... 0.0 31.2 0.38]\n",
            " [1 161 68.76824817518248 ... 0.0 31.8308957952468 0.165]\n",
            " ...\n",
            " [1 95 64.0 ... 0.0 32.0 0.161]\n",
            " [0 97 60.0 ... 0.0 28.2 0.44299999999999995]\n",
            " [1 196 76.0 ... 280.0 37.5 0.605]]\n"
          ],
          "name": "stdout"
        }
      ]
    },
    {
      "cell_type": "code",
      "metadata": {
        "colab": {
          "base_uri": "https://localhost:8080/"
        },
        "id": "xmmu1rpT8j68",
        "outputId": "17efae74-23a2-4786-b2b2-28fda8e2288d"
      },
      "source": [
        "print(X_test)"
      ],
      "execution_count": 23,
      "outputs": [
        {
          "output_type": "stream",
          "text": [
            "[[1 170 64.0 37.0 225.0 34.5 0.35600000000000004]\n",
            " [1 105 68.76824817518248 32.0 68.0 30.8 0.122]\n",
            " [1 128 78.0 0.0 0.0 21.1 0.268]\n",
            " [1 133 88.0 15.0 155.0 32.4 0.262]\n",
            " [1 142 86.0 0.0 0.0 44.0 0.645]\n",
            " [1 95 82.0 25.0 180.0 35.0 nan]\n",
            " [0 124 74.0 0.0 0.0 34.0 0.22]\n",
            " [1 83 65.0 28.0 66.0 36.8 0.629]\n",
            " [0 144 82.0 26.0 285.0 32.0 0.452]\n",
            " [0 99 52.0 15.0 94.0 24.6 0.637]\n",
            " [0 155 62.0 26.0 495.0 34.0 nan]\n",
            " [0 90 70.0 17.0 0.0 27.3 0.085]\n",
            " [0 176 90.0 34.0 300.0 33.7 0.467]\n",
            " [1 96 64.0 27.0 87.0 33.2 0.289]\n",
            " [0 132 80.0 0.0 0.0 26.8 0.18600000000000003]\n",
            " [0 189 64.0 20.61844484629295 325.0 31.2 0.583]\n",
            " [1 175 62.0 30.0 0.0 33.6 0.212]\n",
            " [1 87 68.0 34.0 77.0 37.6 0.401]\n",
            " [0 145 82.0 19.0 110.0 22.2 0.245]\n",
            " [1 107 88.0 0.0 0.0 36.8 0.727]\n",
            " [1 119 0.0 0.0 0.0 19.6 0.8320000000000001]\n",
            " [1 88 78.0 30.0 0.0 27.6 0.258]\n",
            " [1 180 64.0 25.0 70.0 34.0 0.271]\n",
            " [1 128 48.0 45.0 194.0 40.5 0.613]\n",
            " [1 144 58.0 28.0 140.0 29.5 0.287]\n",
            " [1 135 94.0 46.0 145.0 40.6 0.284]\n",
            " [0 152 88.0 44.0 0.0 50.0 0.337]\n",
            " [0 115 98.0 0.0 0.0 52.9 0.209]\n",
            " [0 96 56.0 34.0 115.0 24.7 0.9440000000000001]\n",
            " [0 88 66.0 21.0 23.0 24.4 0.342]\n",
            " [1 155 84.0 44.0 545.0 38.7 0.619]\n",
            " [1 128 64.0 42.0 0.0 40.0 1.101]\n",
            " [1 140 85.0 33.0 0.0 37.4 0.244]\n",
            " [0 165 88.0 0.0 0.0 30.4 0.302]\n",
            " [0 137 108.0 0.0 0.0 48.8 0.22699999999999998]\n",
            " [1 99 0.0 0.0 0.0 22.2 0.10800000000000001]\n",
            " [0 80 66.0 30.0 0.0 26.2 0.313]\n",
            " [1 180 66.0 39.0 0.0 42.0 1.893]\n",
            " [0 105 84.0 0.0 0.0 27.9 0.741]\n",
            " [0 0 68.0 35.0 0.0 32.0 0.389]\n",
            " [0 129 0.0 30.0 0.0 39.9 0.569]\n",
            " [1 117 64.0 27.0 120.0 33.2 0.23]\n",
            " [0 106 70.0 37.0 148.0 39.4 0.605]\n",
            " [0 109 88.0 30.0 0.0 32.5 0.855]\n",
            " [1 112 66.0 0.0 0.0 37.8 nan]\n",
            " [0 122 90.0 51.0 220.0 49.7 0.325]\n",
            " [1 122 60.0 18.0 106.0 29.8 0.7170000000000001]\n",
            " [1 91 0.0 0.0 0.0 29.8 0.501]\n",
            " [1 180 90.0 26.0 90.0 36.5 0.314]\n",
            " [0 139 46.0 19.0 83.0 28.7 0.654]\n",
            " [1 116 70.0 28.0 0.0 31.8308957952468 0.204]\n",
            " [1 114 88.0 0.0 0.0 27.8 0.247]\n",
            " [0 99 54.0 28.0 83.0 34.0 0.499]\n",
            " [1 193 70.0 31.0 0.0 34.9 0.24100000000000002]\n",
            " [1 146 76.0 35.0 194.0 38.2 0.32899999999999996]\n",
            " [0 165 90.0 33.0 680.0 52.3 0.42700000000000005]\n",
            " [1 166 74.0 0.0 0.0 26.6 0.304]\n",
            " [1 144 82.0 32.0 0.0 38.5 0.5539999999999999]\n",
            " [0 139 80.0 0.0 0.0 27.1 1.4409999999999998]\n",
            " [1 104 64.0 23.0 116.0 27.8 0.45399999999999996]\n",
            " [1 102 86.0 36.0 120.0 31.8308957952468 0.127]\n",
            " [1 97 68.0 21.0 0.0 27.2 1.095]\n",
            " [1 138 60.0 35.0 167.0 34.6 0.534]\n",
            " [1 100 66.0 15.0 56.0 23.6 0.6659999999999999]\n",
            " [1 139 62.0 17.0 210.0 22.1 0.207]\n",
            " [1 100 54.0 28.0 105.0 37.8 0.498]\n",
            " [1 111 65.0 0.0 0.0 24.6 0.66]\n",
            " [1 163 70.0 18.0 105.0 31.6 0.268]\n",
            " [1 139 80.0 35.0 160.0 31.6 0.361]\n",
            " [1 142 60.0 33.0 190.0 28.8 0.687]\n",
            " [0 101 50.0 15.0 36.0 24.2 0.526]\n",
            " [1 124 56.0 13.0 105.0 21.8 0.452]\n",
            " [1 114 80.0 34.0 285.0 44.2 0.16699999999999998]\n",
            " [0 115 0.0 0.0 0.0 35.3 0.134]\n",
            " [0 187 68.0 39.0 304.0 37.7 0.254]\n",
            " [1 123 88.0 37.0 0.0 35.2 0.19699999999999998]\n",
            " [1 99 72.0 17.0 0.0 25.6 0.294]\n",
            " [0 122 78.0 31.0 0.0 27.6 0.512]\n",
            " [1 102 64.0 46.0 78.0 40.6 0.496]\n",
            " [1 88 78.0 29.0 76.0 32.0 0.365]\n",
            " [1 138 82.0 0.0 0.0 40.1 0.23600000000000002]\n",
            " [0 124 70.0 33.0 402.0 35.4 0.282]\n",
            " [1 127 80.0 37.0 210.0 36.3 0.804]\n",
            " [1 96 68.0 13.0 49.0 21.1 0.647]\n",
            " [1 91 62.0 0.0 0.0 27.3 0.525]\n",
            " [1 195 70.0 33.0 145.0 25.1 0.163]\n",
            " [1 91 68.0 0.0 0.0 24.2 nan]\n",
            " [0 193 50.0 16.0 375.0 25.9 0.655]\n",
            " [1 137 84.0 27.0 0.0 27.3 0.231]\n",
            " [0 103 80.0 11.0 82.0 19.4 0.491]\n",
            " [1 181 68.0 36.0 495.0 30.1 0.615]\n",
            " [1 106 80.0 0.0 0.0 23.6 0.13699999999999998]\n",
            " [0 114 65.0 0.0 0.0 21.9 0.43200000000000005]\n",
            " [0 141 0.0 0.0 0.0 30.0 0.7609999999999999]\n",
            " [1 198 66.0 32.0 274.0 41.3 0.502]\n",
            " [0 137 84.0 0.0 0.0 31.2 0.252]\n",
            " [0 179 95.0 31.0 0.0 34.2 0.16399999999999998]\n",
            " [1 86 68.0 28.0 71.0 30.2 0.364]\n",
            " [1 109 64.0 44.0 99.0 34.8 0.905]\n",
            " [0 77 82.0 41.0 42.0 31.8308957952468 0.156]\n",
            " [1 84 82.0 31.0 125.0 38.2 0.233]\n",
            " [0 130 82.0 0.0 0.0 39.1 0.956]\n",
            " [1 143 74.0 22.0 61.0 26.2 0.256]\n",
            " [1 151 62.0 31.0 120.0 35.5 0.6920000000000001]\n",
            " [1 87 60.0 18.0 0.0 21.8 0.444]\n",
            " [0 113 50.0 10.0 85.0 29.5 0.626]\n",
            " [0 0 80.0 32.0 0.0 41.0 0.34600000000000003]\n",
            " [1 107 62.0 13.0 48.0 22.9 0.6779999999999999]\n",
            " [1 139 64.0 35.0 140.0 28.6 0.41100000000000003]\n",
            " [1 110 68.0 0.0 0.0 26.0 0.292]\n",
            " [1 130 70.0 13.0 105.0 25.9 0.47200000000000003]\n",
            " [1 74 68.0 28.0 45.0 29.7 0.293]\n",
            " [1 148 60.0 27.0 318.0 30.9 0.15]\n",
            " [0 140 82.0 20.61844484629295 325.0 39.2 0.528]\n",
            " [0 100 78.0 25.0 184.0 36.6 0.41200000000000003]\n",
            " [1 100 64.0 23.0 0.0 29.7 0.368]\n",
            " [1 116 74.0 15.0 105.0 26.3 0.107]\n",
            " [1 115 64.0 22.0 0.0 30.8 0.42100000000000004]\n",
            " [0 113 76.0 0.0 0.0 33.3 0.278]\n",
            " [1 108 72.0 43.0 75.0 36.1 0.263]\n",
            " [0 182 74.0 0.0 0.0 30.5 0.345]\n",
            " [0 155 74.0 17.0 96.0 26.6 0.433]\n",
            " [1 179 70.0 0.0 0.0 35.1 0.2]\n",
            " [1 105 80.0 45.0 191.0 33.7 0.711]\n",
            " [0 93 100.0 39.0 72.0 43.4 1.021]\n",
            " [0 102 82.0 0.0 0.0 30.8 0.18]\n",
            " [1 0 48.0 20.0 0.0 24.7 0.14]\n",
            " [1 129 64.0 29.0 115.0 26.4 0.21899999999999997]\n",
            " [1 100 70.0 52.0 57.0 40.5 0.677]\n",
            " [1 194 80.0 0.0 0.0 26.1 0.551]\n",
            " [1 130 70.0 20.61844484629295 80.0090579710145 34.2 0.652]\n",
            " [0 124 80.0 33.0 130.0 33.2 0.305]\n",
            " [0 80 55.0 0.0 0.0 19.1 0.258]\n",
            " [0 124 68.0 28.0 205.0 32.9 0.875]\n",
            " [1 87 58.0 16.0 52.0 32.7 0.166]\n",
            " [1 136 74.0 26.0 80.0090579710145 26.0 0.647]\n",
            " [1 158 84.0 41.0 210.0 39.4 0.395]\n",
            " [1 118 72.0 19.0 0.0 23.1 1.476]\n",
            " [1 80 0.0 0.0 0.0 0.0 nan]\n",
            " [1 146 70.0 0.0 0.0 37.9 0.33399999999999996]\n",
            " [1 151 78.0 32.0 210.0 31.8308957952468 0.516]]\n"
          ],
          "name": "stdout"
        }
      ]
    },
    {
      "cell_type": "code",
      "metadata": {
        "colab": {
          "base_uri": "https://localhost:8080/"
        },
        "id": "AoZiwLQ_8lld",
        "outputId": "eada05fc-5b24-43ad-bbae-18cb1df809a3"
      },
      "source": [
        "print(y_train)"
      ],
      "execution_count": 24,
      "outputs": [
        {
          "output_type": "stream",
          "text": [
            "[1 0 1 1 0 1 0 0 0 0 0 0 0 1 0 0 0 0 1 0 1 0 0 0 0 0 1 0 0 1 1 1 0 0 0 0 0\n",
            " 0 0 0 1 0 1 0 0 1 1 0 0 1 0 0 0 0 0 0 0 0 1 1 1 1 1 0 0 0 1 0 1 0 1 1 1 0\n",
            " 1 1 1 0 0 0 0 1 0 0 1 0 1 0 0 0 1 1 0 1 0 0 0 0 0 1 0 0 0 0 0 0 0 0 0 0 1\n",
            " 0 0 0 1 1 0 0 1 1 0 0 0 1 1 0 0 1 0 1 0 0 0 0 0 0 0 1 0 0 0 0 0 0 0 1 1 0\n",
            " 0 1 0 0 0 0 0 1 1 1 0 1 1 0 0 0 1 1 1 1 0 1 0 0 1 0 0 1 0 1 0 0 0 1 0 0 1\n",
            " 1 0 1 0 0 0 0 0 0 1 0 0 1 1 0 0 1 1 0 1 1 0 1 1 0 1 0 0 0 1 0 0 0 0 0 0 0\n",
            " 0 0 0 0 1 0 0 0 1 0 0 1 1 0 0 1 0 1 1 0 1 0 0 0 0 0 0 1 0 0 0 0 0 0 0 0 1\n",
            " 0 1 0 1 0 1 1 0 0 0 1 1 0 1 1 1 0 1 1 0 0 1 1 0 0 0 0 0 0 0 0 0 0 0 0 1 0\n",
            " 1 0 0 0 1 1 0 0 0 1 0 0 0 0 1 0 0 0 0 0 1 1 1 1 1 0 1 1 1 0 1 1 1 0 0 1 1\n",
            " 0 1 1 0 0 1 1 0 0 1 0 0 0 0 1 0 0 0 1 1 1 1 0 0 0 1 0 1 0 0 0 1 0 1 0 1 0\n",
            " 1 1 0 0 0 0 1 0 1 1 1 0 0 0 0 0 0 0 1 0 0 0 0 0 1 0 0 0 0 0 0 0 0 1 0 0 1\n",
            " 0 0 0 0 0 0 0 0 0 0 0 1 0 1 0 1]\n"
          ],
          "name": "stdout"
        }
      ]
    },
    {
      "cell_type": "code",
      "metadata": {
        "colab": {
          "base_uri": "https://localhost:8080/"
        },
        "id": "DEzVBmGV8wGH",
        "outputId": "a2eedb75-256b-4883-9cbd-2800a9df3f29"
      },
      "source": [
        "print(y_test)"
      ],
      "execution_count": 25,
      "outputs": [
        {
          "output_type": "stream",
          "text": [
            "[1 0 0 0 1 1 1 0 1 0 1 0 1 0 0 1 1 0 0 0 0 0 0 1 0 0 1 1 0 0 0 0 0 1 1 0 0\n",
            " 1 1 0 1 0 0 1 1 1 0 0 1 0 0 0 0 1 0 0 0 1 0 0 1 0 1 0 0 0 0 1 1 0 0 0 0 0\n",
            " 1 0 0 0 0 0 0 0 0 0 0 1 0 0 0 0 1 0 0 1 1 0 0 0 1 0 0 1 0 0 0 0 1 1 0 0 0\n",
            " 0 1 1 1 0 0 0 1 0 1 1 0 1 0 1 0 1 0 0 1 0 0 1 0 0 1 0 0 1 1]\n"
          ],
          "name": "stdout"
        }
      ]
    },
    {
      "cell_type": "code",
      "metadata": {
        "id": "1nfA-B-x8x_8"
      },
      "source": [
        "# Feature Scaling\n",
        "from sklearn.preprocessing import StandardScaler\n",
        "sc = StandardScaler()\n",
        "X_train = sc.fit_transform(X_train)\n",
        "X_test = sc.transform(X_test)"
      ],
      "execution_count": 27,
      "outputs": []
    },
    {
      "cell_type": "code",
      "metadata": {
        "colab": {
          "base_uri": "https://localhost:8080/"
        },
        "id": "Sx-OX5_O9D1P",
        "outputId": "263b5896-6173-4372-d8e5-672a9b70b1f9"
      },
      "source": [
        "print(X_train)"
      ],
      "execution_count": 28,
      "outputs": [
        {
          "output_type": "stream",
          "text": [
            "[[ 9.29212636e-01  1.63216202e+00  2.18741024e+00 ...  1.45737721e+00\n",
            "   1.65886194e+00  6.55276556e-01]\n",
            " [-1.07617994e+00 -4.12316101e-01 -8.90915735e-01 ... -6.74235800e-01\n",
            "  -7.59901505e-02 -3.13601637e-01]\n",
            " [ 9.29212636e-01  1.31762693e+00 -9.47907652e-04 ... -6.74235800e-01\n",
            "   1.08808090e-03 -9.24477917e-01]\n",
            " ...\n",
            " [ 9.29212636e-01 -7.58304707e-01 -2.54020705e-01 ... -6.74235800e-01\n",
            "   2.17479951e-02 -9.35843058e-01]\n",
            " [-1.07617994e+00 -6.95397687e-01 -4.66319048e-01 ... -6.74235800e-01\n",
            "  -4.42508197e-01 -1.34600681e-01]\n",
            " [ 9.29212636e-01  2.41849976e+00  3.82874325e-01 ...  1.81264604e+00\n",
            "   6.93697747e-01  3.25687493e-01]]\n"
          ],
          "name": "stdout"
        }
      ]
    },
    {
      "cell_type": "code",
      "metadata": {
        "colab": {
          "base_uri": "https://localhost:8080/"
        },
        "id": "Vlswdtx19idE",
        "outputId": "b6895647-58d3-4199-9b80-201fcd006b9b"
      },
      "source": [
        "print(X_test)"
      ],
      "execution_count": 29,
      "outputs": [
        {
          "output_type": "stream",
          "text": [
            "[[ 9.29212636e-01  1.60070851e+00 -2.54020705e-01  1.06638842e+00\n",
            "   1.32415140e+00  3.27179700e-01 -3.81792478e-01]\n",
            " [ 9.29212636e-01 -4.43769611e-01 -9.47907652e-04  7.46882149e-01\n",
            "  -7.02787807e-02 -1.24859223e-01 -1.04665317e+00]\n",
            " [ 9.29212636e-01  2.79661110e-01  4.89023497e-01 -1.29795797e+00\n",
            "  -6.74235800e-01 -1.30993424e+00 -6.31825560e-01]\n",
            " [ 9.29212636e-01  4.36928658e-01  1.01976936e+00 -3.39439163e-01\n",
            "   7.02430935e-01  7.06170680e-02 -6.48873270e-01]\n",
            " [ 9.29212636e-01  7.20010245e-01  9.13620183e-01 -1.29795797e+00\n",
            "  -6.74235800e-01  1.48782018e+00  4.39338894e-01]\n",
            " [ 9.29212636e-01 -7.58304707e-01  7.01321840e-01  2.99573374e-01\n",
            "   9.24473957e-01  3.88266041e-01             nan]\n",
            " [-1.07617994e+00  1.53847072e-01  2.76725154e-01 -1.29795797e+00\n",
            "  -6.74235800e-01  2.66093359e-01 -7.68207241e-01]\n",
            " [ 9.29212636e-01 -1.13574682e+00 -2.00946119e-01  4.91277135e-01\n",
            "  -8.80422225e-02  6.08176869e-01  3.93878334e-01]\n",
            " [-1.07617994e+00  7.82917264e-01  7.01321840e-01  3.63474627e-01\n",
            "   1.85705465e+00  2.17479951e-02 -1.09029115e-01]\n",
            " [-1.07617994e+00 -6.32490668e-01 -8.90915735e-01 -3.39439163e-01\n",
            "   1.60645962e-01 -8.82329852e-01  4.16608614e-01]\n",
            " [-1.07617994e+00  1.12890587e+00 -3.60169876e-01  3.63474627e-01\n",
            "   3.72221603e+00  2.66093359e-01             nan]\n",
            " [-1.07617994e+00 -9.15572255e-01  6.44268103e-02 -2.11636656e-01\n",
            "  -6.74235800e-01 -5.52463611e-01 -1.15178072e+00]\n",
            " [-1.07617994e+00  1.78942957e+00  1.12591853e+00  8.74684656e-01\n",
            "   1.99028046e+00  2.29441555e-01 -6.64098400e-02]\n",
            " [ 9.29212636e-01 -7.26851197e-01 -2.54020705e-01  4.27375881e-01\n",
            "   9.84739158e-02  1.68355214e-01 -5.72158574e-01]\n",
            " [-1.07617994e+00  4.05475149e-01  5.95172669e-01 -1.29795797e+00\n",
            "  -6.74235800e-01 -6.13549952e-01 -8.64810932e-01]\n",
            " [-1.07617994e+00  2.19832520e+00 -2.54020705e-01  1.95865064e-02\n",
            "   2.21232348e+00 -7.59901505e-02  2.63179223e-01]\n",
            " [ 9.29212636e-01  1.75797606e+00 -3.60169876e-01  6.19079642e-01\n",
            "  -6.74235800e-01  2.17224287e-01 -7.90937521e-01]\n",
            " [ 9.29212636e-01 -1.00993278e+00 -4.17223614e-02  8.74684656e-01\n",
            "   9.65670708e-03  7.05915015e-01 -2.53934652e-01]\n",
            " [-1.07617994e+00  8.14370773e-01  7.01321840e-01 -8.38341483e-02\n",
            "   3.02753496e-01 -1.17554429e+00 -6.97175115e-01]\n",
            " [ 9.29212636e-01 -3.80862591e-01  1.01976936e+00 -1.29795797e+00\n",
            "  -6.74235800e-01  6.08176869e-01  6.72324266e-01]\n",
            " [ 9.29212636e-01 -3.42047622e-03 -3.65079420e+00 -1.29795797e+00\n",
            "  -6.74235800e-01 -1.49319326e+00  9.70659194e-01]\n",
            " [ 9.29212636e-01 -9.78479274e-01  4.89023497e-01  6.19079642e-01\n",
            "  -6.74235800e-01 -5.15811806e-01 -6.60238410e-01]\n",
            " [ 9.29212636e-01  1.91524361e+00 -2.54020705e-01  2.99573374e-01\n",
            "  -5.25153390e-02  2.66093359e-01 -6.23301705e-01]\n",
            " [ 9.29212636e-01  2.79661110e-01 -1.10321408e+00  1.57759845e+00\n",
            "   1.04881805e+00  1.06021579e+00  3.48417774e-01]\n",
            " [ 9.29212636e-01  7.82917264e-01 -5.72468220e-01  4.91277135e-01\n",
            "   5.69205122e-01 -2.83683710e-01 -5.77841144e-01]\n",
            " [ 9.29212636e-01  4.99835677e-01  1.33821687e+00  1.64149970e+00\n",
            "   6.13613726e-01  1.07243306e+00 -5.86364999e-01]\n",
            " [-1.07617994e+00  1.03454534e+00  1.01976936e+00  1.51369719e+00\n",
            "  -6.74235800e-01  2.22085627e+00 -4.35776893e-01]\n",
            " [-1.07617994e+00 -1.29234515e-01  1.55051521e+00 -1.29795797e+00\n",
            "  -6.74235800e-01  2.57515705e+00 -7.99461376e-01]\n",
            " [-1.07617994e+00 -7.26851197e-01 -6.78617391e-01  8.74684656e-01\n",
            "   3.47162100e-01 -8.70112584e-01  1.28888312e+00]\n",
            " [-1.07617994e+00 -9.78479274e-01 -1.47871533e-01  4.39683590e-02\n",
            "  -4.69956220e-01 -9.06764389e-01 -4.21570468e-01]\n",
            " [ 9.29212636e-01  1.12890587e+00  8.07471012e-01  1.51369719e+00\n",
            "   4.16630207e+00  8.40304965e-01  3.65465484e-01]\n",
            " [ 9.29212636e-01  2.79661110e-01 -2.54020705e-01  1.38589469e+00\n",
            "  -6.74235800e-01  9.99129452e-01  1.73496487e+00]\n",
            " [ 9.29212636e-01  6.57103225e-01  8.60545598e-01  8.10783403e-01\n",
            "  -6.74235800e-01  6.81480478e-01 -7.00016400e-01]\n",
            " [-1.07617994e+00  1.44344097e+00  1.01976936e+00 -1.29795797e+00\n",
            "  -6.74235800e-01 -1.73728296e-01 -5.35221869e-01]\n",
            " [-1.07617994e+00  5.62742697e-01  2.08126107e+00 -1.29795797e+00\n",
            "  -6.74235800e-01  2.07424905e+00 -7.48318246e-01]\n",
            " [ 9.29212636e-01 -6.32490668e-01 -3.65079420e+00 -1.29795797e+00\n",
            "  -6.74235800e-01 -1.17554429e+00 -1.08643116e+00]\n",
            " [-1.07617994e+00 -1.23010735e+00 -1.47871533e-01  6.19079642e-01\n",
            "  -6.74235800e-01 -6.86853561e-01 -5.03967734e-01]\n",
            " [ 9.29212636e-01  1.91524361e+00 -1.47871533e-01  1.19419092e+00\n",
            "  -6.74235800e-01  1.24347482e+00  3.98526261e+00]\n",
            " [-1.07617994e+00 -4.43769611e-01  8.07471012e-01 -1.29795797e+00\n",
            "  -6.74235800e-01 -4.79160001e-01  7.12102257e-01]\n",
            " [-1.07617994e+00 -3.74638812e+00 -4.17223614e-02  9.38585910e-01\n",
            "  -6.74235800e-01  2.17479951e-02 -2.88030072e-01]\n",
            " [-1.07617994e+00  3.11114620e-01 -3.65079420e+00  6.19079642e-01\n",
            "  -6.74235800e-01  9.86912184e-01  2.23401233e-01]\n",
            " [ 9.29212636e-01 -6.63274954e-02 -2.54020705e-01  4.27375881e-01\n",
            "   3.91570704e-01  1.68355214e-01 -7.39794391e-01]\n",
            " [-1.07617994e+00 -4.12316101e-01  6.44268103e-02  1.06638842e+00\n",
            "   6.40258889e-01  9.25825843e-01  3.25687493e-01]\n",
            " [-1.07617994e+00 -3.17955572e-01  1.01976936e+00  6.19079642e-01\n",
            "  -6.74235800e-01  8.28343362e-02  1.03600875e+00]\n",
            " [ 9.29212636e-01 -2.23595043e-01 -1.47871533e-01 -1.29795797e+00\n",
            "  -6.74235800e-01  7.30349551e-01             nan]\n",
            " [-1.07617994e+00  9.09400526e-02  1.12591853e+00  1.96100597e+00\n",
            "   1.27974279e+00  2.18420447e+00 -4.69872313e-01]\n",
            " [ 9.29212636e-01  9.09400526e-02 -4.66319048e-01 -1.47735402e-01\n",
            "   2.67226612e-01 -2.47031905e-01  6.43911416e-01]\n",
            " [ 9.29212636e-01 -8.84118745e-01 -3.65079420e+00 -1.29795797e+00\n",
            "  -6.74235800e-01 -2.47031905e-01  3.01938509e-02]\n",
            " [ 9.29212636e-01  1.91524361e+00  1.12591853e+00  3.63474627e-01\n",
            "   1.25119078e-01  5.71525065e-01 -5.01126449e-01]\n",
            " [-1.07617994e+00  6.25649716e-01 -1.20936325e+00 -8.38341483e-02\n",
            "   6.29470323e-02 -3.81421856e-01  4.64910460e-01]\n",
            " [ 9.29212636e-01 -9.77810050e-02  6.44268103e-02  4.91277135e-01\n",
            "  -6.74235800e-01  1.08808090e-03 -8.13667801e-01]\n",
            " [ 9.29212636e-01 -1.60688024e-01  1.01976936e+00 -1.29795797e+00\n",
            "  -6.74235800e-01 -4.91377270e-01 -6.91492545e-01]\n",
            " [-1.07617994e+00 -6.32490668e-01 -7.84766563e-01  4.91277135e-01\n",
            "   6.29470323e-02  2.66093359e-01  2.45112808e-02]\n",
            " [ 9.29212636e-01  2.32413923e+00  6.44268103e-02  6.82980895e-01\n",
            "  -6.74235800e-01  3.76048773e-01 -7.08540256e-01]\n",
            " [ 9.29212636e-01  8.45824283e-01  3.82874325e-01  9.38585910e-01\n",
            "   1.04881805e+00  7.79218624e-01 -4.58507173e-01]\n",
            " [-1.07617994e+00  1.44344097e+00  1.12591853e+00  8.10783403e-01\n",
            "   5.36533439e+00  2.50185344e+00 -1.80061241e-01]\n",
            " [ 9.29212636e-01  1.47489448e+00  2.76725154e-01 -1.29795797e+00\n",
            "  -6.74235800e-01 -6.37984488e-01 -5.29539299e-01]\n",
            " [ 9.29212636e-01  7.82917264e-01  7.01321840e-01  7.46882149e-01\n",
            "  -6.74235800e-01  8.15870429e-01  1.80781957e-01]\n",
            " [-1.07617994e+00  6.25649716e-01  5.95172669e-01 -1.29795797e+00\n",
            "  -6.74235800e-01 -5.76898147e-01  2.70100177e+00]\n",
            " [ 9.29212636e-01 -4.75223120e-01 -2.54020705e-01  1.71770866e-01\n",
            "   3.56043821e-01 -4.91377270e-01 -1.03346545e-01]\n",
            " [ 9.29212636e-01 -5.38130139e-01  9.13620183e-01  1.00248716e+00\n",
            "   3.91570704e-01  1.08808090e-03 -1.03244675e+00]\n",
            " [ 9.29212636e-01 -6.95397687e-01 -4.17223614e-02  4.39683590e-02\n",
            "  -6.74235800e-01 -5.64680879e-01  1.71791716e+00]\n",
            " [ 9.29212636e-01  5.94196206e-01 -4.66319048e-01  9.38585910e-01\n",
            "   8.09011585e-01  3.39396969e-01  1.23956257e-01]\n",
            " [ 9.29212636e-01 -6.01037159e-01 -1.47871533e-01 -3.39439163e-01\n",
            "  -1.76859431e-01 -1.00450253e+00  4.99005880e-01]\n",
            " [ 9.29212636e-01  6.25649716e-01 -3.60169876e-01 -2.11636656e-01\n",
            "   1.19092558e+00 -1.18776156e+00 -8.05143946e-01]\n",
            " [ 9.29212636e-01 -6.01037159e-01 -7.84766563e-01  4.91277135e-01\n",
            "   2.58344891e-01  7.30349551e-01  2.16699958e-02]\n",
            " [ 9.29212636e-01 -2.55048553e-01 -2.00946119e-01 -1.29795797e+00\n",
            "  -6.74235800e-01 -8.82329852e-01  4.81958170e-01]\n",
            " [ 9.29212636e-01  1.38053395e+00  6.44268103e-02 -1.47735402e-01\n",
            "   2.58344891e-01 -2.71210777e-02 -6.31825560e-01]\n",
            " [ 9.29212636e-01  6.25649716e-01  5.95172669e-01  9.38585910e-01\n",
            "   7.46839539e-01 -2.71210777e-02 -3.67586053e-01]\n",
            " [ 9.29212636e-01  7.20010245e-01 -4.66319048e-01  8.10783403e-01\n",
            "   1.01329117e+00 -3.69204588e-01  5.58672865e-01]\n",
            " [-1.07617994e+00 -5.69583649e-01 -9.97064906e-01 -3.39439163e-01\n",
            "  -3.54493849e-01 -9.31198925e-01  1.01225976e-01]\n",
            " [ 9.29212636e-01  1.53847072e-01 -6.78617391e-01 -4.67241670e-01\n",
            "   2.58344891e-01 -1.22441336e+00 -1.09029115e-01]\n",
            " [ 9.29212636e-01 -1.60688024e-01  5.95172669e-01  8.74684656e-01\n",
            "   1.85705465e+00  1.51225472e+00 -9.18795347e-01]\n",
            " [-1.07617994e+00 -1.29234515e-01 -3.65079420e+00 -1.29795797e+00\n",
            "  -6.74235800e-01  4.24917846e-01 -1.01255775e+00]\n",
            " [-1.07617994e+00  2.13541818e+00 -4.17223614e-02  1.19419092e+00\n",
            "   2.02580734e+00  7.18132283e-01 -6.71603550e-01]\n",
            " [ 9.29212636e-01  1.22393562e-01  1.01976936e+00  1.06638842e+00\n",
            "  -6.74235800e-01  4.12700578e-01 -8.33556797e-01]\n",
            " [ 9.29212636e-01 -6.32490668e-01  1.70575982e-01 -2.11636656e-01\n",
            "  -6.74235800e-01 -7.60157170e-01 -5.57952149e-01]\n",
            " [-1.07617994e+00  9.09400526e-02  4.89023497e-01  6.82980895e-01\n",
            "  -6.74235800e-01 -5.15811806e-01  6.14479861e-02]\n",
            " [ 9.29212636e-01 -5.38130139e-01 -2.54020705e-01  1.64149970e+00\n",
            "   1.85384280e-02  1.07243306e+00  1.59874257e-02]\n",
            " [ 9.29212636e-01 -9.78479274e-01  4.89023497e-01  5.55178388e-01\n",
            "   7.74986214e-04  2.17479951e-02 -3.56220912e-01]\n",
            " [ 9.29212636e-01  5.94196206e-01  7.01321840e-01 -1.29795797e+00\n",
            "  -6.74235800e-01  1.01134672e+00 -7.22746681e-01]\n",
            " [-1.07617994e+00  1.53847072e-01  6.44268103e-02  8.10783403e-01\n",
            "   2.89621599e+00  4.37135114e-01 -5.92047570e-01]\n",
            " [ 9.29212636e-01  2.48207601e-01  5.95172669e-01  1.06638842e+00\n",
            "   1.19092558e+00  5.47090528e-01  8.91103213e-01]\n",
            " [ 9.29212636e-01 -7.26851197e-01 -4.17223614e-02 -4.67241670e-01\n",
            "  -2.39031477e-01 -1.30993424e+00  4.45021464e-01]\n",
            " [ 9.29212636e-01 -8.84118745e-01 -3.60169876e-01 -1.29795797e+00\n",
            "  -6.74235800e-01 -5.52463611e-01  9.83846915e-02]\n",
            " [ 9.29212636e-01  2.38704625e+00  6.44268103e-02  8.10783403e-01\n",
            "   6.13613726e-01 -8.21243511e-01 -9.30160487e-01]\n",
            " [ 9.29212636e-01 -8.84118745e-01 -4.17223614e-02 -1.29795797e+00\n",
            "  -6.74235800e-01 -9.31198925e-01             nan]\n",
            " [-1.07617994e+00  2.32413923e+00 -9.97064906e-01 -2.75537909e-01\n",
            "   2.65640953e+00 -7.23505366e-01  4.67751745e-01]\n",
            " [ 9.29212636e-01  5.62742697e-01  8.07471012e-01  4.27375881e-01\n",
            "  -6.74235800e-01 -5.52463611e-01 -7.36953106e-01]\n",
            " [-1.07617994e+00 -5.06676630e-01  5.95172669e-01 -5.95044177e-01\n",
            "   5.40653114e-02 -1.51762780e+00  1.78100061e-03]\n",
            " [ 9.29212636e-01  1.94669712e+00 -4.17223614e-02  1.00248716e+00\n",
            "   3.72221603e+00 -2.10380101e-01  3.54100344e-01]\n",
            " [ 9.29212636e-01 -4.12316101e-01  5.95172669e-01 -1.29795797e+00\n",
            "  -6.74235800e-01 -1.00450253e+00 -1.00403390e+00]\n",
            " [-1.07617994e+00 -1.60688024e-01 -2.00946119e-01 -1.29795797e+00\n",
            "  -6.74235800e-01 -1.21219609e+00 -1.65854816e-01]\n",
            " [-1.07617994e+00  6.88556735e-01 -3.65079420e+00 -1.29795797e+00\n",
            "  -6.74235800e-01 -2.22597369e-01  7.68927957e-01]\n",
            " [ 9.29212636e-01  2.48140678e+00 -1.47871533e-01  7.46882149e-01\n",
            "   1.75935572e+00  1.15795394e+00  3.30351359e-02]\n",
            " [-1.07617994e+00  5.62742697e-01  8.07471012e-01 -1.29795797e+00\n",
            "  -6.74235800e-01 -7.59901505e-02 -6.77286120e-01]\n",
            " [-1.07617994e+00  1.88379010e+00  1.39129146e+00  6.82980895e-01\n",
            "  -6.74235800e-01  2.90527896e-01 -9.27319202e-01]\n",
            " [ 9.29212636e-01 -1.04138629e+00 -4.17223614e-02  4.91277135e-01\n",
            "  -4.36336181e-02 -1.98162833e-01 -3.59062198e-01]\n",
            " [ 9.29212636e-01 -3.17955572e-01 -2.54020705e-01  1.51369719e+00\n",
            "   2.05054566e-01  3.63831505e-01  1.17807300e+00]\n",
            " [-1.07617994e+00 -1.32446788e+00  7.01321840e-01  1.32199343e+00\n",
            "  -3.01203523e-01  1.08808090e-03 -9.50049483e-01]\n",
            " [ 9.29212636e-01 -1.10429331e+00  7.01321840e-01  6.82980895e-01\n",
            "   4.35979309e-01  7.79218624e-01 -7.31270536e-01]\n",
            " [-1.07617994e+00  3.42568129e-01  7.01321840e-01 -1.29795797e+00\n",
            "  -6.74235800e-01  8.89174038e-01  1.32297854e+00]\n",
            " [ 9.29212636e-01  7.51463754e-01  2.76725154e-01  1.07869613e-01\n",
            "  -1.32450827e-01 -6.86853561e-01 -6.65920980e-01]\n",
            " [ 9.29212636e-01  1.00309183e+00 -3.60169876e-01  6.82980895e-01\n",
            "   3.91570704e-01  4.49352382e-01  5.72879291e-01]\n",
            " [ 9.29212636e-01 -1.00993278e+00 -4.66319048e-01 -1.47735402e-01\n",
            "  -6.74235800e-01 -1.22441336e+00 -1.31759396e-01]\n",
            " [-1.07617994e+00 -1.92141534e-01 -9.97064906e-01 -6.58945431e-01\n",
            "   8.07104740e-02 -2.83683710e-01  3.85354479e-01]\n",
            " [-1.07617994e+00 -3.74638812e+00  5.95172669e-01  7.46882149e-01\n",
            "  -6.74235800e-01  1.12130213e+00 -4.10205328e-01]\n",
            " [ 9.29212636e-01 -3.80862591e-01 -3.60169876e-01 -4.67241670e-01\n",
            "  -2.47913198e-01 -1.09002341e+00  5.33101300e-01]\n",
            " [ 9.29212636e-01  6.25649716e-01 -2.54020705e-01  9.38585910e-01\n",
            "   5.69205122e-01 -3.93639124e-01 -2.25521801e-01]\n",
            " [ 9.29212636e-01 -2.86502063e-01 -4.17223614e-02 -1.29795797e+00\n",
            "  -6.74235800e-01 -7.11288097e-01 -5.63634719e-01]\n",
            " [ 9.29212636e-01  3.42568129e-01  6.44268103e-02 -4.67241670e-01\n",
            "   2.58344891e-01 -7.23505366e-01 -5.22034149e-02]\n",
            " [ 9.29212636e-01 -1.41882841e+00 -4.17223614e-02  4.91277135e-01\n",
            "  -2.74558361e-01 -2.59249174e-01 -5.60793434e-01]\n",
            " [ 9.29212636e-01  9.08731302e-01 -4.66319048e-01  4.27375881e-01\n",
            "   2.15015144e+00 -1.12641955e-01 -9.67097193e-01]\n",
            " [-1.07617994e+00  6.57103225e-01  7.01321840e-01  1.95865064e-02\n",
            "   2.21232348e+00  9.01391306e-01  1.06908547e-01]\n",
            " [-1.07617994e+00 -6.01037159e-01  4.89023497e-01  2.99573374e-01\n",
            "   9.60000840e-01  5.83742333e-01 -2.22680516e-01]\n",
            " [ 9.29212636e-01 -6.01037159e-01 -2.54020705e-01  1.71770866e-01\n",
            "  -6.74235800e-01 -2.59249174e-01 -3.47697057e-01]\n",
            " [ 9.29212636e-01 -9.77810050e-02  2.76725154e-01 -3.39439163e-01\n",
            "   2.58344891e-01 -6.74636293e-01 -1.08927245e+00]\n",
            " [ 9.29212636e-01 -1.29234515e-01 -2.54020705e-01  1.07869613e-01\n",
            "  -6.74235800e-01 -1.24859223e-01 -1.97108951e-01]\n",
            " [-1.07617994e+00 -1.92141534e-01  3.82874325e-01 -1.29795797e+00\n",
            "  -6.74235800e-01  1.80572482e-01 -6.03412710e-01]\n",
            " [ 9.29212636e-01 -3.49409082e-01  1.70575982e-01  1.44979594e+00\n",
            "  -8.10673466e-03  5.22655992e-01 -6.46031985e-01]\n",
            " [-1.07617994e+00  1.97815063e+00  2.76725154e-01 -1.29795797e+00\n",
            "  -6.74235800e-01 -1.61511028e-01 -4.13046613e-01]\n",
            " [-1.07617994e+00  1.12890587e+00  2.76725154e-01 -2.11636656e-01\n",
            "   1.78409404e-01 -6.37984488e-01 -1.63013531e-01]\n",
            " [ 9.29212636e-01  1.88379010e+00  6.44268103e-02 -1.29795797e+00\n",
            "  -6.74235800e-01  4.00483310e-01 -8.25032942e-01]\n",
            " [ 9.29212636e-01 -4.43769611e-01  5.95172669e-01  1.57759845e+00\n",
            "   1.02217289e+00  2.29441555e-01  6.26863706e-01]\n",
            " [-1.07617994e+00 -8.21211726e-01  1.65666438e+00  1.19419092e+00\n",
            "  -3.47518973e-02  1.41451657e+00  1.50766206e+00]\n",
            " [-1.07617994e+00 -5.38130139e-01  7.01321840e-01 -1.29795797e+00\n",
            "  -6.74235800e-01 -1.24859223e-01 -8.81858642e-01]\n",
            " [ 9.29212636e-01 -3.74638812e+00 -1.10321408e+00 -1.99328946e-02\n",
            "  -6.74235800e-01 -8.70112584e-01 -9.95510043e-01]\n",
            " [ 9.29212636e-01  3.11114620e-01 -2.54020705e-01  5.55178388e-01\n",
            "   3.47162100e-01 -6.62419025e-01 -7.71048526e-01]\n",
            " [ 9.29212636e-01 -6.01037159e-01  6.44268103e-02  2.02490722e+00\n",
            "  -1.67977710e-01  1.06021579e+00  5.30260015e-01]\n",
            " [ 9.29212636e-01  2.35559274e+00  5.95172669e-01 -1.29795797e+00\n",
            "  -6.74235800e-01 -6.99070829e-01  1.72258102e-01]\n",
            " [ 9.29212636e-01  3.42568129e-01  6.44268103e-02  1.95865064e-02\n",
            "   3.63823201e-02  2.90527896e-01  4.59227890e-01]\n",
            " [-1.07617994e+00  1.53847072e-01  5.95172669e-01  8.10783403e-01\n",
            "   4.80387913e-01  1.68355214e-01 -5.26698014e-01]\n",
            " [-1.07617994e+00 -1.23010735e+00 -7.31691977e-01 -1.29795797e+00\n",
            "  -6.74235800e-01 -1.55427960e+00 -6.60238410e-01]\n",
            " [-1.07617994e+00  1.53847072e-01 -4.17223614e-02  4.91277135e-01\n",
            "   1.14651698e+00  1.31703409e-01  1.09283445e+00]\n",
            " [ 9.29212636e-01 -1.00993278e+00 -5.72468220e-01 -2.75537909e-01\n",
            "  -2.12386315e-01  1.07268873e-01 -9.21636632e-01]\n",
            " [ 9.29212636e-01  5.31289187e-01  2.76725154e-01  3.63474627e-01\n",
            "   3.63823201e-02 -7.11288097e-01  4.45021464e-01]\n",
            " [ 9.29212636e-01  1.22326640e+00  8.07471012e-01  1.32199343e+00\n",
            "   1.19092558e+00  9.25825843e-01 -2.70982362e-01]\n",
            " [ 9.29212636e-01 -3.48739858e-02  1.70575982e-01 -8.38341483e-02\n",
            "  -6.74235800e-01 -1.06558888e+00  2.80044675e+00]\n",
            " [ 9.29212636e-01 -1.23010735e+00 -3.65079420e+00 -1.29795797e+00\n",
            "  -6.74235800e-01 -3.88777783e+00             nan]\n",
            " [ 9.29212636e-01  8.45824283e-01  6.44268103e-02 -1.29795797e+00\n",
            "  -6.74235800e-01  7.42566820e-01 -4.44300748e-01]\n",
            " [ 9.29212636e-01  1.00309183e+00  4.89023497e-01  7.46882149e-01\n",
            "   1.19092558e+00  1.08808090e-03  7.28131262e-02]]\n"
          ],
          "name": "stdout"
        }
      ]
    },
    {
      "cell_type": "code",
      "metadata": {
        "id": "OF0wmaxM9lGC"
      },
      "source": [
        "# Taking care of missing data\n",
        "#handling missing data (Replacing missing data with the mean value)  \n",
        "from sklearn.impute import SimpleImputer\n",
        "imputer = SimpleImputer(missing_values= np.NAN, strategy= 'mean', fill_value=None, verbose=1, copy=True)\n",
        "#Fitting imputer object to the independent variables x.   \n",
        "imputer = imputer.fit(X[:, 2:6]) \n",
        "#Replacing missing data with the calculated mean value  \n",
        "X[:, 2:6]= imputer.transform(X[:, 2:6])"
      ],
      "execution_count": 31,
      "outputs": []
    },
    {
      "cell_type": "code",
      "metadata": {
        "id": "0Kg1ijjS9oJS"
      },
      "source": [
        "# Extracting dependent and independent variables:\n",
        "# Extracting independent variable:\n",
        "X = dataset.iloc[:,0:7].values\n",
        "# Extracting dependent variable:\n",
        "y = dataset.iloc[:,8].values\n"
      ],
      "execution_count": 32,
      "outputs": []
    },
    {
      "cell_type": "code",
      "metadata": {
        "id": "jVRRZUnK-a8y"
      },
      "source": [
        "\n",
        "from sklearn.preprocessing import LabelEncoder\n",
        "labelencoder_X = LabelEncoder()\n",
        "X[:, 0] = labelencoder_X.fit_transform(X[:, 0])"
      ],
      "execution_count": 33,
      "outputs": []
    },
    {
      "cell_type": "code",
      "metadata": {
        "colab": {
          "base_uri": "https://localhost:8080/"
        },
        "id": "WG5y5nb__D9i",
        "outputId": "ded27f81-c05f-4f7e-f954-b42e1078ae1e"
      },
      "source": [
        "print(X)"
      ],
      "execution_count": 34,
      "outputs": [
        {
          "output_type": "stream",
          "text": [
            "[[1 148 72.0 ... 0.0 33.6 0.627]\n",
            " [0 85 66.0 ... 0.0 26.6 0.35100000000000003]\n",
            " [0 183 64.0 ... 0.0 23.3 0.672]\n",
            " ...\n",
            " [1 198 66.0 ... 274.0 41.3 0.502]\n",
            " [1 87 68.0 ... 77.0 37.6 0.401]\n",
            " [1 99 60.0 ... 54.0 26.9 0.49700000000000005]]\n"
          ],
          "name": "stdout"
        }
      ]
    },
    {
      "cell_type": "code",
      "metadata": {
        "id": "t4bYQoE-_IUZ"
      },
      "source": [
        "from sklearn.model_selection import train_test_split\n",
        "\n",
        "X_train, X_test, y_train, y_test = train_test_split(X, y, test_size = 0.25, random_state = 5)"
      ],
      "execution_count": 35,
      "outputs": []
    },
    {
      "cell_type": "code",
      "metadata": {
        "colab": {
          "base_uri": "https://localhost:8080/"
        },
        "id": "35XZm-BT_PqI",
        "outputId": "1e6f9199-7d0b-44ba-e15b-2a7ccfe74b8e"
      },
      "source": [
        "\n",
        "from sklearn.ensemble import RandomForestClassifier\n",
        "model = RandomForestClassifier()\n",
        "model.fit(X_train, y_train)"
      ],
      "execution_count": 36,
      "outputs": [
        {
          "output_type": "execute_result",
          "data": {
            "text/plain": [
              "RandomForestClassifier(bootstrap=True, ccp_alpha=0.0, class_weight=None,\n",
              "                       criterion='gini', max_depth=None, max_features='auto',\n",
              "                       max_leaf_nodes=None, max_samples=None,\n",
              "                       min_impurity_decrease=0.0, min_impurity_split=None,\n",
              "                       min_samples_leaf=1, min_samples_split=2,\n",
              "                       min_weight_fraction_leaf=0.0, n_estimators=100,\n",
              "                       n_jobs=None, oob_score=False, random_state=None,\n",
              "                       verbose=0, warm_start=False)"
            ]
          },
          "metadata": {
            "tags": []
          },
          "execution_count": 36
        }
      ]
    },
    {
      "cell_type": "code",
      "metadata": {
        "colab": {
          "base_uri": "https://localhost:8080/"
        },
        "id": "RUqqnC1T_pbT",
        "outputId": "823f1ea4-0e89-43e0-c521-e49201171ba9"
      },
      "source": [
        "# Predicting the Test set results\n",
        "y_pred = model.predict(X_test)\n",
        "y_pred"
      ],
      "execution_count": 38,
      "outputs": [
        {
          "output_type": "execute_result",
          "data": {
            "text/plain": [
              "array([0, 0, 0, 0, 0, 0, 0, 0, 1, 0, 0, 1, 1, 1, 0, 0, 0, 1, 0, 0, 0, 0,\n",
              "       1, 0, 1, 0, 0, 0, 1, 0, 0, 0, 1, 1, 0, 0, 0, 0, 0, 0, 0, 0, 0, 0,\n",
              "       0, 1, 1, 0, 1, 0, 0, 0, 0, 0, 0, 0, 0, 0, 0, 0, 1, 0, 0, 0, 0, 1,\n",
              "       0, 1, 1, 1, 0, 0, 0, 0, 0, 0, 0, 1, 0, 0, 0, 0, 1, 0, 0, 0, 0, 1,\n",
              "       0, 1, 0, 0, 0, 0, 0, 0, 0, 1, 0, 0, 0, 1, 1, 1, 1, 1, 1, 1, 0, 0,\n",
              "       1, 1, 0, 0, 0, 0, 1, 0, 1, 0, 1, 0, 1, 0, 0])"
            ]
          },
          "metadata": {
            "tags": []
          },
          "execution_count": 38
        }
      ]
    },
    {
      "cell_type": "code",
      "metadata": {
        "colab": {
          "base_uri": "https://localhost:8080/"
        },
        "id": "vHJYL-OJ_2-L",
        "outputId": "4e412f65-7147-451d-daef-0b8c5dbeb4aa"
      },
      "source": [
        "# Making the Confusion Matrix\n",
        "from sklearn.metrics import confusion_matrix\n",
        "cm = confusion_matrix(y_test, y_pred)\n",
        "print('Confusion matrix: ')\n",
        "print(cm)"
      ],
      "execution_count": 39,
      "outputs": [
        {
          "output_type": "stream",
          "text": [
            "Confusion matrix: \n",
            "[[71 12]\n",
            " [18 24]]\n"
          ],
          "name": "stdout"
        }
      ]
    },
    {
      "cell_type": "code",
      "metadata": {
        "colab": {
          "base_uri": "https://localhost:8080/"
        },
        "id": "wW1etUGE_9bX",
        "outputId": "3053f6a9-3b86-4a15-f2e6-ccbaf3dd4dae"
      },
      "source": [
        "# calculate Accuracy\n",
        "#   0   1\n",
        "# 0[59  7(FP type 1)]\n",
        "#1 [ 11(FN Type 2) 23]= 82/100\n",
        "\n",
        "from sklearn.metrics import accuracy_score\n",
        "print('Accuracy: %.2f' % (accuracy_score(y_test, y_pred)*100))"
      ],
      "execution_count": 40,
      "outputs": [
        {
          "output_type": "stream",
          "text": [
            "Accuracy: 76.00\n"
          ],
          "name": "stdout"
        }
      ]
    },
    {
      "cell_type": "code",
      "metadata": {
        "colab": {
          "base_uri": "https://localhost:8080/"
        },
        "id": "TYA7gaOXAAQt",
        "outputId": "033c97a3-e61f-4f8e-a754-80760ca9dc3e"
      },
      "source": [
        "from sklearn.metrics import precision_score\n",
        "from sklearn.metrics import recall_score\n",
        "from sklearn.metrics import f1_score\n",
        "# calculate precision\n",
        "# Precision = TruePositives / (TruePositives + FalsePositives) \n",
        "# calculate Accuracy\n",
        "#   0   1\n",
        "# 0[59  7(FP type 1)]\n",
        "#1 [ 11(FN Type 2) 23]= 23/30\n",
        "precision = precision_score(y_test, y_pred, average='binary')\n",
        "print('Precision: %.2f' % (precision))"
      ],
      "execution_count": 41,
      "outputs": [
        {
          "output_type": "stream",
          "text": [
            "Precision: 0.67\n"
          ],
          "name": "stdout"
        }
      ]
    },
    {
      "cell_type": "code",
      "metadata": {
        "colab": {
          "base_uri": "https://localhost:8080/"
        },
        "id": "nsE6iFafACMg",
        "outputId": "eb2cccb4-25c1-41ac-d16f-b66ad5e173fe"
      },
      "source": [
        "# calculate recall\n",
        "# Recall = TruePositives / (TruePositives + FalseNegatives)\n",
        "# calculate Accuracy\n",
        "#   0   1\n",
        "# 0[59  7(FP type 1)]\n",
        "#1 [ 11(FN Type 2) 23]= 23/23+11\n",
        "recall = recall_score(y_test, y_pred, average='macro')\n",
        "print('Recall: %.3f' % (recall))"
      ],
      "execution_count": 42,
      "outputs": [
        {
          "output_type": "stream",
          "text": [
            "Recall: 0.713\n"
          ],
          "name": "stdout"
        }
      ]
    },
    {
      "cell_type": "code",
      "metadata": {
        "colab": {
          "base_uri": "https://localhost:8080/"
        },
        "id": "K-05bcDIAEK_",
        "outputId": "80c7adc8-fbd8-4279-cfc5-d8b2f537169d"
      },
      "source": [
        "# F-Measure = (2 * Precision * Recall) / (Precision + Recall)\n",
        "# (2*0.829*0.906)/0.829+0.906\n",
        "# calculate score\n",
        "score = f1_score(y_test, y_pred, average='macro')\n",
        "print('F-Measure: %.3f' % (score*100))"
      ],
      "execution_count": 43,
      "outputs": [
        {
          "output_type": "stream",
          "text": [
            "F-Measure: 72.048\n"
          ],
          "name": "stdout"
        }
      ]
    },
    {
      "cell_type": "code",
      "metadata": {
        "colab": {
          "base_uri": "https://localhost:8080/"
        },
        "id": "MbR1eb9NAGEg",
        "outputId": "567525d0-2cd7-4595-da8d-4d323ca19072"
      },
      "source": [
        "# save the model to disk\n",
        "import joblib\n",
        "filename = '/content/drive/My Drive/endterm_model.sav'\n",
        "joblib.dump(model, filename)\n",
        " \n",
        "# some time later...\n",
        " \n",
        "# load the model from disk\n",
        "randomforest_model = joblib.load(filename)\n",
        "result = randomforest_model.score(X_test, y_test)\n",
        "print(result)"
      ],
      "execution_count": 45,
      "outputs": [
        {
          "output_type": "stream",
          "text": [
            "0.76\n"
          ],
          "name": "stdout"
        }
      ]
    },
    {
      "cell_type": "code",
      "metadata": {
        "colab": {
          "base_uri": "https://localhost:8080/"
        },
        "id": "UEYv_rUyB8dp",
        "outputId": "3e8a49ca-2af7-4c52-9370-eee36846c988"
      },
      "source": [
        "import pickle \n",
        "print(\"[INFO] Saving model...\")\n",
        "# Save the trained model as a pickle string. \n",
        "saved_model=pickle.dump(model,open('/content/drive/My Drive/endterm_model.pkl', 'wb')) \n",
        "# Saving model to disk"
      ],
      "execution_count": 46,
      "outputs": [
        {
          "output_type": "stream",
          "text": [
            "[INFO] Saving model...\n"
          ],
          "name": "stdout"
        }
      ]
    },
    {
      "cell_type": "code",
      "metadata": {
        "colab": {
          "base_uri": "https://localhost:8080/"
        },
        "id": "SmXkoO4lCHOa",
        "outputId": "eea3ce99-cabb-4812-b2f2-9f8239421e9f"
      },
      "source": [
        "# Load the pickled model \n",
        "model = pickle.load(open('/content/drive/My Drive/endterm_model.pkl', 'rb'))  \n",
        "# Use the loaded pickled model to make predictions \n",
        "model.predict(X_test)"
      ],
      "execution_count": 47,
      "outputs": [
        {
          "output_type": "execute_result",
          "data": {
            "text/plain": [
              "array([0, 0, 0, 0, 0, 0, 0, 0, 1, 0, 0, 1, 1, 1, 0, 0, 0, 1, 0, 0, 0, 0,\n",
              "       1, 0, 1, 0, 0, 0, 1, 0, 0, 0, 1, 1, 0, 0, 0, 0, 0, 0, 0, 0, 0, 0,\n",
              "       0, 1, 1, 0, 1, 0, 0, 0, 0, 0, 0, 0, 0, 0, 0, 0, 1, 0, 0, 0, 0, 1,\n",
              "       0, 1, 1, 1, 0, 0, 0, 0, 0, 0, 0, 1, 0, 0, 0, 0, 1, 0, 0, 0, 0, 1,\n",
              "       0, 1, 0, 0, 0, 0, 0, 0, 0, 1, 0, 0, 0, 1, 1, 1, 1, 1, 1, 1, 0, 0,\n",
              "       1, 1, 0, 0, 0, 0, 1, 0, 1, 0, 1, 0, 1, 0, 0])"
            ]
          },
          "metadata": {
            "tags": []
          },
          "execution_count": 47
        }
      ]
    },
    {
      "cell_type": "code",
      "metadata": {
        "colab": {
          "base_uri": "https://localhost:8080/"
        },
        "id": "g73SH9gQCTjA",
        "outputId": "96b00494-4925-4fa8-8e79-268247d07721"
      },
      "source": [
        "# Mounting Google Drive\n",
        "from google.colab import drive\n",
        "drive.mount('/content/drive')"
      ],
      "execution_count": 68,
      "outputs": [
        {
          "output_type": "stream",
          "text": [
            "Drive already mounted at /content/drive; to attempt to forcibly remount, call drive.mount(\"/content/drive\", force_remount=True).\n"
          ],
          "name": "stdout"
        }
      ]
    },
    {
      "cell_type": "code",
      "metadata": {
        "colab": {
          "base_uri": "https://localhost:8080/",
          "height": 1000
        },
        "id": "OWGI259-CWS9",
        "outputId": "57ac39c4-9c61-420c-c0df-11f9b0a21871"
      },
      "source": [
        "!pip install streamlit"
      ],
      "execution_count": 49,
      "outputs": [
        {
          "output_type": "stream",
          "text": [
            "Collecting streamlit\n",
            "\u001b[?25l  Downloading https://files.pythonhosted.org/packages/38/1e/4d594c5374ecf42595612d561ef75d89b34f4ebea3d0e45ec1e024e15265/streamlit-0.84.1-py2.py3-none-any.whl (7.8MB)\n",
            "\u001b[K     |████████████████████████████████| 7.8MB 5.1MB/s \n",
            "\u001b[?25hCollecting base58\n",
            "  Downloading https://files.pythonhosted.org/packages/b8/a1/d9f565e9910c09fd325dc638765e8843a19fa696275c16cc08cf3b0a3c25/base58-2.1.0-py3-none-any.whl\n",
            "Collecting validators\n",
            "  Downloading https://files.pythonhosted.org/packages/db/2f/7fed3ee94ad665ad2c1de87f858f10a7785251ff75b4fd47987888d07ef1/validators-0.18.2-py3-none-any.whl\n",
            "Requirement already satisfied: attrs in /usr/local/lib/python3.7/dist-packages (from streamlit) (21.2.0)\n",
            "Requirement already satisfied: pillow>=6.2.0 in /usr/local/lib/python3.7/dist-packages (from streamlit) (7.1.2)\n",
            "Requirement already satisfied: tzlocal in /usr/local/lib/python3.7/dist-packages (from streamlit) (1.5.1)\n",
            "Collecting pydeck>=0.1.dev5\n",
            "\u001b[?25l  Downloading https://files.pythonhosted.org/packages/d6/bc/f0e44828e4290367c869591d50d3671a4d0ee94926da6cb734b7b200308c/pydeck-0.6.2-py2.py3-none-any.whl (4.2MB)\n",
            "\u001b[K     |████████████████████████████████| 4.2MB 37.8MB/s \n",
            "\u001b[?25hRequirement already satisfied: toml in /usr/local/lib/python3.7/dist-packages (from streamlit) (0.10.2)\n",
            "Requirement already satisfied: astor in /usr/local/lib/python3.7/dist-packages (from streamlit) (0.8.1)\n",
            "Requirement already satisfied: numpy in /usr/local/lib/python3.7/dist-packages (from streamlit) (1.19.5)\n",
            "Requirement already satisfied: tornado>=5.0 in /usr/local/lib/python3.7/dist-packages (from streamlit) (5.1.1)\n",
            "Collecting blinker\n",
            "\u001b[?25l  Downloading https://files.pythonhosted.org/packages/1b/51/e2a9f3b757eb802f61dc1f2b09c8c99f6eb01cf06416c0671253536517b6/blinker-1.4.tar.gz (111kB)\n",
            "\u001b[K     |████████████████████████████████| 112kB 35.0MB/s \n",
            "\u001b[?25hRequirement already satisfied: requests in /usr/local/lib/python3.7/dist-packages (from streamlit) (2.23.0)\n",
            "Collecting watchdog; platform_system != \"Darwin\"\n",
            "\u001b[?25l  Downloading https://files.pythonhosted.org/packages/6b/d1/b0a1e69af06d2f6f47a11238ca115667d858cbb30baf6b6df03f1b874163/watchdog-2.1.3-py3-none-manylinux2014_x86_64.whl (75kB)\n",
            "\u001b[K     |████████████████████████████████| 81kB 8.3MB/s \n",
            "\u001b[?25hRequirement already satisfied: cachetools>=4.0 in /usr/local/lib/python3.7/dist-packages (from streamlit) (4.2.2)\n",
            "Requirement already satisfied: click<8.0,>=7.0 in /usr/local/lib/python3.7/dist-packages (from streamlit) (7.1.2)\n",
            "Requirement already satisfied: pandas>=0.21.0 in /usr/local/lib/python3.7/dist-packages (from streamlit) (1.1.5)\n",
            "Requirement already satisfied: packaging in /usr/local/lib/python3.7/dist-packages (from streamlit) (21.0)\n",
            "Collecting gitpython\n",
            "\u001b[?25l  Downloading https://files.pythonhosted.org/packages/bc/91/b38c4fabb6e5092ab23492ded4f318ab7299b19263272b703478038c0fbc/GitPython-3.1.18-py3-none-any.whl (170kB)\n",
            "\u001b[K     |████████████████████████████████| 174kB 40.4MB/s \n",
            "\u001b[?25hRequirement already satisfied: altair>=3.2.0 in /usr/local/lib/python3.7/dist-packages (from streamlit) (4.1.0)\n",
            "Requirement already satisfied: protobuf!=3.11,>=3.6.0 in /usr/local/lib/python3.7/dist-packages (from streamlit) (3.17.3)\n",
            "Requirement already satisfied: python-dateutil in /usr/local/lib/python3.7/dist-packages (from streamlit) (2.8.1)\n",
            "Requirement already satisfied: pyarrow; python_version < \"3.9\" in /usr/local/lib/python3.7/dist-packages (from streamlit) (3.0.0)\n",
            "Requirement already satisfied: six>=1.4.0 in /usr/local/lib/python3.7/dist-packages (from validators->streamlit) (1.15.0)\n",
            "Requirement already satisfied: decorator>=3.4.0 in /usr/local/lib/python3.7/dist-packages (from validators->streamlit) (4.4.2)\n",
            "Requirement already satisfied: pytz in /usr/local/lib/python3.7/dist-packages (from tzlocal->streamlit) (2018.9)\n",
            "Requirement already satisfied: traitlets>=4.3.2 in /usr/local/lib/python3.7/dist-packages (from pydeck>=0.1.dev5->streamlit) (5.0.5)\n",
            "Requirement already satisfied: ipywidgets>=7.0.0 in /usr/local/lib/python3.7/dist-packages (from pydeck>=0.1.dev5->streamlit) (7.6.3)\n",
            "Collecting ipykernel>=5.1.2; python_version >= \"3.4\"\n",
            "\u001b[?25l  Downloading https://files.pythonhosted.org/packages/13/8e/1d868a67488f99692c2604907cdb87ab7da586fa114d5f0f177c83f1aee1/ipykernel-6.0.2-py3-none-any.whl (122kB)\n",
            "\u001b[K     |████████████████████████████████| 122kB 40.9MB/s \n",
            "\u001b[?25hRequirement already satisfied: jinja2>=2.10.1 in /usr/local/lib/python3.7/dist-packages (from pydeck>=0.1.dev5->streamlit) (2.11.3)\n",
            "Requirement already satisfied: idna<3,>=2.5 in /usr/local/lib/python3.7/dist-packages (from requests->streamlit) (2.10)\n",
            "Requirement already satisfied: certifi>=2017.4.17 in /usr/local/lib/python3.7/dist-packages (from requests->streamlit) (2021.5.30)\n",
            "Requirement already satisfied: urllib3!=1.25.0,!=1.25.1,<1.26,>=1.21.1 in /usr/local/lib/python3.7/dist-packages (from requests->streamlit) (1.24.3)\n",
            "Requirement already satisfied: chardet<4,>=3.0.2 in /usr/local/lib/python3.7/dist-packages (from requests->streamlit) (3.0.4)\n",
            "Requirement already satisfied: pyparsing>=2.0.2 in /usr/local/lib/python3.7/dist-packages (from packaging->streamlit) (2.4.7)\n",
            "Requirement already satisfied: typing-extensions>=3.7.4.0; python_version < \"3.8\" in /usr/local/lib/python3.7/dist-packages (from gitpython->streamlit) (3.7.4.3)\n",
            "Collecting gitdb<5,>=4.0.1\n",
            "\u001b[?25l  Downloading https://files.pythonhosted.org/packages/ea/e8/f414d1a4f0bbc668ed441f74f44c116d9816833a48bf81d22b697090dba8/gitdb-4.0.7-py3-none-any.whl (63kB)\n",
            "\u001b[K     |████████████████████████████████| 71kB 8.0MB/s \n",
            "\u001b[?25hRequirement already satisfied: toolz in /usr/local/lib/python3.7/dist-packages (from altair>=3.2.0->streamlit) (0.11.1)\n",
            "Requirement already satisfied: jsonschema in /usr/local/lib/python3.7/dist-packages (from altair>=3.2.0->streamlit) (2.6.0)\n",
            "Requirement already satisfied: entrypoints in /usr/local/lib/python3.7/dist-packages (from altair>=3.2.0->streamlit) (0.3)\n",
            "Requirement already satisfied: ipython-genutils in /usr/local/lib/python3.7/dist-packages (from traitlets>=4.3.2->pydeck>=0.1.dev5->streamlit) (0.2.0)\n",
            "Requirement already satisfied: nbformat>=4.2.0 in /usr/local/lib/python3.7/dist-packages (from ipywidgets>=7.0.0->pydeck>=0.1.dev5->streamlit) (5.1.3)\n",
            "Requirement already satisfied: widgetsnbextension~=3.5.0 in /usr/local/lib/python3.7/dist-packages (from ipywidgets>=7.0.0->pydeck>=0.1.dev5->streamlit) (3.5.1)\n",
            "Requirement already satisfied: ipython>=4.0.0; python_version >= \"3.3\" in /usr/local/lib/python3.7/dist-packages (from ipywidgets>=7.0.0->pydeck>=0.1.dev5->streamlit) (5.5.0)\n",
            "Requirement already satisfied: jupyterlab-widgets>=1.0.0; python_version >= \"3.6\" in /usr/local/lib/python3.7/dist-packages (from ipywidgets>=7.0.0->pydeck>=0.1.dev5->streamlit) (1.0.0)\n",
            "Requirement already satisfied: jupyter-client<7.0 in /usr/local/lib/python3.7/dist-packages (from ipykernel>=5.1.2; python_version >= \"3.4\"->pydeck>=0.1.dev5->streamlit) (5.3.5)\n",
            "Requirement already satisfied: debugpy<2.0,>=1.0.0 in /usr/local/lib/python3.7/dist-packages (from ipykernel>=5.1.2; python_version >= \"3.4\"->pydeck>=0.1.dev5->streamlit) (1.0.0)\n",
            "Requirement already satisfied: matplotlib-inline<0.2.0,>=0.1.0 in /usr/local/lib/python3.7/dist-packages (from ipykernel>=5.1.2; python_version >= \"3.4\"->pydeck>=0.1.dev5->streamlit) (0.1.2)\n",
            "Collecting importlib-metadata<4; python_version < \"3.8.0\"\n",
            "  Downloading https://files.pythonhosted.org/packages/52/d0/bdb31463f2d9ca111e39b268518e9baa3542ef73ca449b711a7b4da69764/importlib_metadata-3.10.1-py3-none-any.whl\n",
            "Requirement already satisfied: MarkupSafe>=0.23 in /usr/local/lib/python3.7/dist-packages (from jinja2>=2.10.1->pydeck>=0.1.dev5->streamlit) (2.0.1)\n",
            "Collecting smmap<5,>=3.0.1\n",
            "  Downloading https://files.pythonhosted.org/packages/68/ee/d540eb5e5996eb81c26ceffac6ee49041d473bc5125f2aa995cf51ec1cf1/smmap-4.0.0-py2.py3-none-any.whl\n",
            "Requirement already satisfied: jupyter-core in /usr/local/lib/python3.7/dist-packages (from nbformat>=4.2.0->ipywidgets>=7.0.0->pydeck>=0.1.dev5->streamlit) (4.7.1)\n",
            "Requirement already satisfied: notebook>=4.4.1 in /usr/local/lib/python3.7/dist-packages (from widgetsnbextension~=3.5.0->ipywidgets>=7.0.0->pydeck>=0.1.dev5->streamlit) (5.3.1)\n",
            "Requirement already satisfied: pygments in /usr/local/lib/python3.7/dist-packages (from ipython>=4.0.0; python_version >= \"3.3\"->ipywidgets>=7.0.0->pydeck>=0.1.dev5->streamlit) (2.6.1)\n",
            "Requirement already satisfied: simplegeneric>0.8 in /usr/local/lib/python3.7/dist-packages (from ipython>=4.0.0; python_version >= \"3.3\"->ipywidgets>=7.0.0->pydeck>=0.1.dev5->streamlit) (0.8.1)\n",
            "Requirement already satisfied: prompt-toolkit<2.0.0,>=1.0.4 in /usr/local/lib/python3.7/dist-packages (from ipython>=4.0.0; python_version >= \"3.3\"->ipywidgets>=7.0.0->pydeck>=0.1.dev5->streamlit) (1.0.18)\n",
            "Requirement already satisfied: pickleshare in /usr/local/lib/python3.7/dist-packages (from ipython>=4.0.0; python_version >= \"3.3\"->ipywidgets>=7.0.0->pydeck>=0.1.dev5->streamlit) (0.7.5)\n",
            "Requirement already satisfied: pexpect; sys_platform != \"win32\" in /usr/local/lib/python3.7/dist-packages (from ipython>=4.0.0; python_version >= \"3.3\"->ipywidgets>=7.0.0->pydeck>=0.1.dev5->streamlit) (4.8.0)\n",
            "Requirement already satisfied: setuptools>=18.5 in /usr/local/lib/python3.7/dist-packages (from ipython>=4.0.0; python_version >= \"3.3\"->ipywidgets>=7.0.0->pydeck>=0.1.dev5->streamlit) (57.2.0)\n",
            "Requirement already satisfied: pyzmq>=13 in /usr/local/lib/python3.7/dist-packages (from jupyter-client<7.0->ipykernel>=5.1.2; python_version >= \"3.4\"->pydeck>=0.1.dev5->streamlit) (22.1.0)\n",
            "Requirement already satisfied: zipp>=0.5 in /usr/local/lib/python3.7/dist-packages (from importlib-metadata<4; python_version < \"3.8.0\"->ipykernel>=5.1.2; python_version >= \"3.4\"->pydeck>=0.1.dev5->streamlit) (3.5.0)\n",
            "Requirement already satisfied: terminado>=0.8.1 in /usr/local/lib/python3.7/dist-packages (from notebook>=4.4.1->widgetsnbextension~=3.5.0->ipywidgets>=7.0.0->pydeck>=0.1.dev5->streamlit) (0.10.1)\n",
            "Requirement already satisfied: Send2Trash in /usr/local/lib/python3.7/dist-packages (from notebook>=4.4.1->widgetsnbextension~=3.5.0->ipywidgets>=7.0.0->pydeck>=0.1.dev5->streamlit) (1.7.1)\n",
            "Requirement already satisfied: nbconvert in /usr/local/lib/python3.7/dist-packages (from notebook>=4.4.1->widgetsnbextension~=3.5.0->ipywidgets>=7.0.0->pydeck>=0.1.dev5->streamlit) (5.6.1)\n",
            "Requirement already satisfied: wcwidth in /usr/local/lib/python3.7/dist-packages (from prompt-toolkit<2.0.0,>=1.0.4->ipython>=4.0.0; python_version >= \"3.3\"->ipywidgets>=7.0.0->pydeck>=0.1.dev5->streamlit) (0.2.5)\n",
            "Requirement already satisfied: ptyprocess>=0.5 in /usr/local/lib/python3.7/dist-packages (from pexpect; sys_platform != \"win32\"->ipython>=4.0.0; python_version >= \"3.3\"->ipywidgets>=7.0.0->pydeck>=0.1.dev5->streamlit) (0.7.0)\n",
            "Requirement already satisfied: bleach in /usr/local/lib/python3.7/dist-packages (from nbconvert->notebook>=4.4.1->widgetsnbextension~=3.5.0->ipywidgets>=7.0.0->pydeck>=0.1.dev5->streamlit) (3.3.0)\n",
            "Requirement already satisfied: pandocfilters>=1.4.1 in /usr/local/lib/python3.7/dist-packages (from nbconvert->notebook>=4.4.1->widgetsnbextension~=3.5.0->ipywidgets>=7.0.0->pydeck>=0.1.dev5->streamlit) (1.4.3)\n",
            "Requirement already satisfied: mistune<2,>=0.8.1 in /usr/local/lib/python3.7/dist-packages (from nbconvert->notebook>=4.4.1->widgetsnbextension~=3.5.0->ipywidgets>=7.0.0->pydeck>=0.1.dev5->streamlit) (0.8.4)\n",
            "Requirement already satisfied: defusedxml in /usr/local/lib/python3.7/dist-packages (from nbconvert->notebook>=4.4.1->widgetsnbextension~=3.5.0->ipywidgets>=7.0.0->pydeck>=0.1.dev5->streamlit) (0.7.1)\n",
            "Requirement already satisfied: testpath in /usr/local/lib/python3.7/dist-packages (from nbconvert->notebook>=4.4.1->widgetsnbextension~=3.5.0->ipywidgets>=7.0.0->pydeck>=0.1.dev5->streamlit) (0.5.0)\n",
            "Requirement already satisfied: webencodings in /usr/local/lib/python3.7/dist-packages (from bleach->nbconvert->notebook>=4.4.1->widgetsnbextension~=3.5.0->ipywidgets>=7.0.0->pydeck>=0.1.dev5->streamlit) (0.5.1)\n",
            "Building wheels for collected packages: blinker\n",
            "  Building wheel for blinker (setup.py) ... \u001b[?25l\u001b[?25hdone\n",
            "  Created wheel for blinker: filename=blinker-1.4-cp37-none-any.whl size=13476 sha256=565f290eb07a132bf1845cf70c82008d9e37b06ea76658906c9e97e1e64d45ac\n",
            "  Stored in directory: /root/.cache/pip/wheels/92/a0/00/8690a57883956a301d91cf4ec999cc0b258b01e3f548f86e89\n",
            "Successfully built blinker\n",
            "\u001b[31mERROR: ipykernel 6.0.2 has requirement ipython<8.0,>=7.23.1, but you'll have ipython 5.5.0 which is incompatible.\u001b[0m\n",
            "\u001b[31mERROR: google-colab 1.0.0 has requirement ipykernel~=4.10, but you'll have ipykernel 6.0.2 which is incompatible.\u001b[0m\n",
            "Installing collected packages: base58, validators, importlib-metadata, ipykernel, pydeck, blinker, watchdog, smmap, gitdb, gitpython, streamlit\n",
            "  Found existing installation: importlib-metadata 4.6.1\n",
            "    Uninstalling importlib-metadata-4.6.1:\n",
            "      Successfully uninstalled importlib-metadata-4.6.1\n",
            "  Found existing installation: ipykernel 4.10.1\n",
            "    Uninstalling ipykernel-4.10.1:\n",
            "      Successfully uninstalled ipykernel-4.10.1\n",
            "Successfully installed base58-2.1.0 blinker-1.4 gitdb-4.0.7 gitpython-3.1.18 importlib-metadata-3.10.1 ipykernel-6.0.2 pydeck-0.6.2 smmap-4.0.0 streamlit-0.84.1 validators-0.18.2 watchdog-2.1.3\n"
          ],
          "name": "stdout"
        },
        {
          "output_type": "display_data",
          "data": {
            "application/vnd.colab-display-data+json": {
              "pip_warning": {
                "packages": [
                  "ipykernel"
                ]
              }
            }
          },
          "metadata": {
            "tags": []
          }
        }
      ]
    },
    {
      "cell_type": "code",
      "metadata": {
        "colab": {
          "base_uri": "https://localhost:8080/"
        },
        "id": "tmFQ3N08CYJk",
        "outputId": "24e3c6c6-f53f-485d-f29f-f80a04d3db54"
      },
      "source": [
        "!pip install pyngrok"
      ],
      "execution_count": 50,
      "outputs": [
        {
          "output_type": "stream",
          "text": [
            "Collecting pyngrok\n",
            "\u001b[?25l  Downloading https://files.pythonhosted.org/packages/6b/4e/a2fe095bbe17cf26424c4abcd22a0490e22d01cc628f25af5e220ddbf6f0/pyngrok-5.0.5.tar.gz (745kB)\n",
            "\r\u001b[K     |▍                               | 10kB 15.1MB/s eta 0:00:01\r\u001b[K     |▉                               | 20kB 19.5MB/s eta 0:00:01\r\u001b[K     |█▎                              | 30kB 16.2MB/s eta 0:00:01\r\u001b[K     |█▊                              | 40kB 14.2MB/s eta 0:00:01\r\u001b[K     |██▏                             | 51kB 5.3MB/s eta 0:00:01\r\u001b[K     |██▋                             | 61kB 5.8MB/s eta 0:00:01\r\u001b[K     |███                             | 71kB 6.1MB/s eta 0:00:01\r\u001b[K     |███▌                            | 81kB 6.0MB/s eta 0:00:01\r\u001b[K     |████                            | 92kB 6.2MB/s eta 0:00:01\r\u001b[K     |████▍                           | 102kB 6.5MB/s eta 0:00:01\r\u001b[K     |████▉                           | 112kB 6.5MB/s eta 0:00:01\r\u001b[K     |█████▎                          | 122kB 6.5MB/s eta 0:00:01\r\u001b[K     |█████▊                          | 133kB 6.5MB/s eta 0:00:01\r\u001b[K     |██████▏                         | 143kB 6.5MB/s eta 0:00:01\r\u001b[K     |██████▋                         | 153kB 6.5MB/s eta 0:00:01\r\u001b[K     |███████                         | 163kB 6.5MB/s eta 0:00:01\r\u001b[K     |███████▌                        | 174kB 6.5MB/s eta 0:00:01\r\u001b[K     |████████                        | 184kB 6.5MB/s eta 0:00:01\r\u001b[K     |████████▍                       | 194kB 6.5MB/s eta 0:00:01\r\u001b[K     |████████▉                       | 204kB 6.5MB/s eta 0:00:01\r\u001b[K     |█████████▎                      | 215kB 6.5MB/s eta 0:00:01\r\u001b[K     |█████████▊                      | 225kB 6.5MB/s eta 0:00:01\r\u001b[K     |██████████▏                     | 235kB 6.5MB/s eta 0:00:01\r\u001b[K     |██████████▌                     | 245kB 6.5MB/s eta 0:00:01\r\u001b[K     |███████████                     | 256kB 6.5MB/s eta 0:00:01\r\u001b[K     |███████████▍                    | 266kB 6.5MB/s eta 0:00:01\r\u001b[K     |███████████▉                    | 276kB 6.5MB/s eta 0:00:01\r\u001b[K     |████████████▎                   | 286kB 6.5MB/s eta 0:00:01\r\u001b[K     |████████████▊                   | 296kB 6.5MB/s eta 0:00:01\r\u001b[K     |█████████████▏                  | 307kB 6.5MB/s eta 0:00:01\r\u001b[K     |█████████████▋                  | 317kB 6.5MB/s eta 0:00:01\r\u001b[K     |██████████████                  | 327kB 6.5MB/s eta 0:00:01\r\u001b[K     |██████████████▌                 | 337kB 6.5MB/s eta 0:00:01\r\u001b[K     |███████████████                 | 348kB 6.5MB/s eta 0:00:01\r\u001b[K     |███████████████▍                | 358kB 6.5MB/s eta 0:00:01\r\u001b[K     |███████████████▉                | 368kB 6.5MB/s eta 0:00:01\r\u001b[K     |████████████████▎               | 378kB 6.5MB/s eta 0:00:01\r\u001b[K     |████████████████▊               | 389kB 6.5MB/s eta 0:00:01\r\u001b[K     |█████████████████▏              | 399kB 6.5MB/s eta 0:00:01\r\u001b[K     |█████████████████▋              | 409kB 6.5MB/s eta 0:00:01\r\u001b[K     |██████████████████              | 419kB 6.5MB/s eta 0:00:01\r\u001b[K     |██████████████████▌             | 430kB 6.5MB/s eta 0:00:01\r\u001b[K     |███████████████████             | 440kB 6.5MB/s eta 0:00:01\r\u001b[K     |███████████████████▍            | 450kB 6.5MB/s eta 0:00:01\r\u001b[K     |███████████████████▉            | 460kB 6.5MB/s eta 0:00:01\r\u001b[K     |████████████████████▎           | 471kB 6.5MB/s eta 0:00:01\r\u001b[K     |████████████████████▊           | 481kB 6.5MB/s eta 0:00:01\r\u001b[K     |█████████████████████           | 491kB 6.5MB/s eta 0:00:01\r\u001b[K     |█████████████████████▌          | 501kB 6.5MB/s eta 0:00:01\r\u001b[K     |██████████████████████          | 512kB 6.5MB/s eta 0:00:01\r\u001b[K     |██████████████████████▍         | 522kB 6.5MB/s eta 0:00:01\r\u001b[K     |██████████████████████▉         | 532kB 6.5MB/s eta 0:00:01\r\u001b[K     |███████████████████████▎        | 542kB 6.5MB/s eta 0:00:01\r\u001b[K     |███████████████████████▊        | 552kB 6.5MB/s eta 0:00:01\r\u001b[K     |████████████████████████▏       | 563kB 6.5MB/s eta 0:00:01\r\u001b[K     |████████████████████████▋       | 573kB 6.5MB/s eta 0:00:01\r\u001b[K     |█████████████████████████       | 583kB 6.5MB/s eta 0:00:01\r\u001b[K     |█████████████████████████▌      | 593kB 6.5MB/s eta 0:00:01\r\u001b[K     |██████████████████████████      | 604kB 6.5MB/s eta 0:00:01\r\u001b[K     |██████████████████████████▍     | 614kB 6.5MB/s eta 0:00:01\r\u001b[K     |██████████████████████████▉     | 624kB 6.5MB/s eta 0:00:01\r\u001b[K     |███████████████████████████▎    | 634kB 6.5MB/s eta 0:00:01\r\u001b[K     |███████████████████████████▊    | 645kB 6.5MB/s eta 0:00:01\r\u001b[K     |████████████████████████████▏   | 655kB 6.5MB/s eta 0:00:01\r\u001b[K     |████████████████████████████▋   | 665kB 6.5MB/s eta 0:00:01\r\u001b[K     |█████████████████████████████   | 675kB 6.5MB/s eta 0:00:01\r\u001b[K     |█████████████████████████████▌  | 686kB 6.5MB/s eta 0:00:01\r\u001b[K     |██████████████████████████████  | 696kB 6.5MB/s eta 0:00:01\r\u001b[K     |██████████████████████████████▍ | 706kB 6.5MB/s eta 0:00:01\r\u001b[K     |██████████████████████████████▉ | 716kB 6.5MB/s eta 0:00:01\r\u001b[K     |███████████████████████████████▏| 727kB 6.5MB/s eta 0:00:01\r\u001b[K     |███████████████████████████████▋| 737kB 6.5MB/s eta 0:00:01\r\u001b[K     |████████████████████████████████| 747kB 6.5MB/s \n",
            "\u001b[?25hRequirement already satisfied: PyYAML in /usr/local/lib/python3.7/dist-packages (from pyngrok) (3.13)\n",
            "Building wheels for collected packages: pyngrok\n",
            "  Building wheel for pyngrok (setup.py) ... \u001b[?25l\u001b[?25hdone\n",
            "  Created wheel for pyngrok: filename=pyngrok-5.0.5-cp37-none-any.whl size=19262 sha256=2bea967479ae5b1752dafa3b49f59526112f042a2d37fa558ff3fb20834986d8\n",
            "  Stored in directory: /root/.cache/pip/wheels/0c/13/64/5ebbcc22eaf53fdf5766b397c1fb17c83f5775fdccf0ea1b88\n",
            "Successfully built pyngrok\n",
            "Installing collected packages: pyngrok\n",
            "Successfully installed pyngrok-5.0.5\n"
          ],
          "name": "stdout"
        }
      ]
    },
    {
      "cell_type": "code",
      "metadata": {
        "colab": {
          "base_uri": "https://localhost:8080/"
        },
        "id": "JoJDX79yCchz",
        "outputId": "aa3fe748-c3e5-479e-ae7b-c4ed72ec630a"
      },
      "source": [
        "!ngrok authtoken 1rh7vlXXZxc7RJ8rPFV1UzSbAdN_49pPNkGSrCEHw2GdRsNJp|"
      ],
      "execution_count": 69,
      "outputs": [
        {
          "output_type": "stream",
          "text": [
            "/bin/bash: -c: line 1: syntax error: unexpected end of file\n"
          ],
          "name": "stdout"
        }
      ]
    },
    {
      "cell_type": "code",
      "metadata": {
        "colab": {
          "base_uri": "https://localhost:8080/"
        },
        "id": "Vsxof_ytCoq2",
        "outputId": "6b65d42b-9f1b-41e9-bf8b-7bb771465754"
      },
      "source": [
        "%%writefile app.py\n",
        "import streamlit as st \n",
        "from PIL import Image\n",
        "import pickle\n",
        "import numpy as np\n",
        "import matplotlib.pyplot as plt\n",
        "import pandas as pd\n",
        "st.set_option('deprecation.showfileUploaderEncoding', False)\n",
        "# Load the pickled model\n",
        "model = pickle.load(open('/content/drive/My Drive/endterm_model.pkl', 'rb')) \n",
        "# Feature Scaling\n",
        "dataset = pd.read_csv('/content/drive/My Drive/main.csv')\n",
        "# Extracting independent variable:\n",
        "X = dataset.iloc[:, [1,2,3,4,5,6,7]].values\n",
        "# Encoding the Independent Variable\n",
        "from sklearn.preprocessing import LabelEncoder\n",
        "labelencoder_X = LabelEncoder()\n",
        "X[:, 0] = labelencoder_X.fit_transform(X[:, 0])\n",
        "\n",
        "def predict_note_authentication(Gender,Glucose,BP,SkinThickness, Insulin, BMI , PedigreeFunction):\n",
        "  output= model.predict([[Gender,Glucose,BP,SkinThickness, Insulin, BMI , PedigreeFunction]])\n",
        "  print(\"heartdisease\", output)\n",
        "  if output==[0]:\n",
        "    prediction=\"No Heartdisease\"\n",
        "  else :\n",
        "    prediction=\"Heartdisease\"\n",
        "  \n",
        "  print(prediction)\n",
        "  return prediction\n",
        "def main():\n",
        "    \n",
        "    html_temp = \"\"\"\n",
        "   <div class=\"\" style=\"background-color:Brown;\" >\n",
        "   <div class=\"clearfix\">           \n",
        "   <div class=\"col-md-12\">\n",
        "   <center><p style=\"font-size:40px;color:black;margin-top:10px;\">Poornima Institute of Engineering & Technology</p></center> \n",
        "   <center><p style=\"font-size:30px;color:black;margin-top:10px;\">Department of Computer Engineering</p></center> \n",
        "   <center><p style=\"font-size:25px;color:black;margin-top:10px;\"Machine Learning Endterm lab Experiment</p></center> \n",
        "   </div>\n",
        "   </div>\n",
        "   </div>\n",
        "   \"\"\"\n",
        "    st.markdown(html_temp,unsafe_allow_html=True)\n",
        "    st.header(\"Heartdisease Predictor\")\n",
        "\n",
        "    Gender = st.number_input('Insert a Gender',0,1)\n",
        "    Glucose= st.number_input('Insert a 1-4 ')\n",
        "    BP=st.number_input('Insert a BP reading ')\n",
        "    SkinThickness = st.number_input('Insert between 100 - 200 ')\n",
        "    Insulin = st.number_input('Insert between 100 - 400 ')\n",
        "    BMI = st.number_input('Insert 0 or 1 ')\n",
        "    PedigreeFunction = st.number_input('Insert  ')\n",
        "\n",
        "    \n",
        "   \n",
        "    resul=\"\"\n",
        "    if st.button(\"Predict\"):\n",
        "      result=predict_note_authentication(Gender,Glucose,BP,SkinThickness, Insulin, BMI , PedigreeFunction)\n",
        "      st.success('Model has predicted {}'.format(result))\n",
        "      \n",
        "    if st.button(\"About\"):\n",
        "      st.subheader(\"Developed by Prakhar Mehrishi\")\n",
        "      st.subheader(\"Head , Department of Computer Engineering\")\n",
        "\n",
        "if __name__=='__main__':\n",
        "  main()"
      ],
      "execution_count": 119,
      "outputs": [
        {
          "output_type": "stream",
          "text": [
            "Overwriting app.py\n"
          ],
          "name": "stdout"
        }
      ]
    },
    {
      "cell_type": "code",
      "metadata": {
        "colab": {
          "base_uri": "https://localhost:8080/"
        },
        "id": "NB1C9DifCrt0",
        "outputId": "280b3039-1fe0-4988-d27c-25687fa47fe4"
      },
      "source": [
        "!nohup streamlit run  app.py &"
      ],
      "execution_count": 124,
      "outputs": [
        {
          "output_type": "stream",
          "text": [
            "nohup: appending output to 'nohup.out'\n"
          ],
          "name": "stdout"
        }
      ]
    },
    {
      "cell_type": "code",
      "metadata": {
        "colab": {
          "base_uri": "https://localhost:8080/"
        },
        "id": "PBt3NbgRCt-_",
        "outputId": "ec4368a8-7891-463d-d3bc-bd783d679620"
      },
      "source": [
        "from pyngrok import ngrok\n",
        "url=ngrok.connect(port='8050')\n",
        "url"
      ],
      "execution_count": 125,
      "outputs": [
        {
          "output_type": "execute_result",
          "data": {
            "text/plain": [
              "<NgrokTunnel: \"http://b625f3e09052.ngrok.io\" -> \"http://localhost:80\">"
            ]
          },
          "metadata": {
            "tags": []
          },
          "execution_count": 125
        }
      ]
    },
    {
      "cell_type": "code",
      "metadata": {
        "colab": {
          "base_uri": "https://localhost:8080/"
        },
        "id": "YS5nMxuNC_O_",
        "outputId": "5ab4571a-e828-4fe6-ce1e-dd6a212bcf57"
      },
      "source": [
        "!streamlit run --server.port 80 app.py"
      ],
      "execution_count": 126,
      "outputs": [
        {
          "output_type": "stream",
          "text": [
            "\u001b[0m\n",
            "\u001b[34m\u001b[1m  You can now view your Streamlit app in your browser.\u001b[0m\n",
            "\u001b[0m\n",
            "\u001b[34m  Network URL: \u001b[0m\u001b[1mhttp://172.28.0.2:80\u001b[0m\n",
            "\u001b[34m  External URL: \u001b[0m\u001b[1mhttp://35.223.158.127:80\u001b[0m\n",
            "\u001b[0m\n",
            "heartdisease [0]\n",
            "No Heartdisease\n",
            "\u001b[34m  Stopping...\u001b[0m\n"
          ],
          "name": "stdout"
        }
      ]
    },
    {
      "cell_type": "code",
      "metadata": {
        "id": "MWDgQN58DAyL"
      },
      "source": [
        ""
      ],
      "execution_count": null,
      "outputs": []
    }
  ]
}